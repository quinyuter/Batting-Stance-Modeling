{
 "cells": [
  {
   "cell_type": "markdown",
   "metadata": {},
   "source": [
    "## Clustering\n",
    "\n",
    "First, I am going to run clustering on batter position in the box. My initial idea was to just use euclidean distance, but that doesn't fully capture the essence of where the batter stands. There is more we would like to know:\n",
    "- Does the batter crowd the plate?\n",
    "- Do they like to stand closer to the pitcher to beat the break of the pitch?\n",
    "- How do they angle in the box? Do they face the pitcher more? (Think Manny Machado)\n",
    "- How far apart are their feet? Does width and stability really matter?\n",
    "- Are they righty or lefty?\n",
    "\n",
    "Applying all of these to clustering should give more accurate clusters."
   ]
  },
  {
   "cell_type": "code",
   "execution_count": 73,
   "metadata": {},
   "outputs": [],
   "source": [
    "## Importing libraries\n",
    "import pandas as pd\n",
    "import numpy as np\n",
    "from sklearn.cluster import KMeans\n",
    "from sklearn.preprocessing import StandardScaler\n",
    "from sklearn.preprocessing import OneHotEncoder\n",
    "import os\n",
    "os.environ[\"OMP_NUM_THREADS\"] = \"1\"\n",
    "from sklearn.decomposition import PCA\n",
    "from sklearn.manifold import TSNE\n",
    "import plotly.express as px\n"
   ]
  },
  {
   "cell_type": "code",
   "execution_count": 62,
   "metadata": {},
   "outputs": [],
   "source": [
    "## Loading in the data\n",
    "data = pd.read_csv(\"bat_stance_full_data.csv\")"
   ]
  },
  {
   "cell_type": "code",
   "execution_count": 63,
   "metadata": {},
   "outputs": [
    {
     "name": "stdout",
     "output_type": "stream",
     "text": [
      "<class 'pandas.core.frame.DataFrame'>\n",
      "RangeIndex: 191 entries, 0 to 190\n",
      "Data columns (total 44 columns):\n",
      " #   Column                     Non-Null Count  Dtype  \n",
      "---  ------                     --------------  -----  \n",
      " 0   Unnamed: 0                 191 non-null    int64  \n",
      " 1   id                         191 non-null    int64  \n",
      " 2   name                       191 non-null    object \n",
      " 3   bat_side                   191 non-null    object \n",
      " 4   side                       191 non-null    object \n",
      " 5   avg_batter_y_position      191 non-null    float64\n",
      " 6   avg_batter_x_position      191 non-null    float64\n",
      " 7   avg_foot_sep               191 non-null    float64\n",
      " 8   avg_stance_angle           191 non-null    float64\n",
      " 9   avg_intercept_y_vs_batter  191 non-null    float64\n",
      " 10  avg_intercept_y_vs_plate   191 non-null    float64\n",
      " 11  player_id                  191 non-null    float64\n",
      " 12  attempts                   191 non-null    float64\n",
      " 13  avg_hit_angle              191 non-null    float64\n",
      " 14  anglesweetspotpercent      191 non-null    float64\n",
      " 15  max_hit_speed              191 non-null    float64\n",
      " 16  avg_hit_speed              191 non-null    float64\n",
      " 17  ev50                       191 non-null    float64\n",
      " 18  fbld                       191 non-null    float64\n",
      " 19  gb                         191 non-null    float64\n",
      " 20  max_distance               191 non-null    float64\n",
      " 21  avg_distance               191 non-null    float64\n",
      " 22  avg_hr_distance            191 non-null    float64\n",
      " 23  ev95plus                   191 non-null    float64\n",
      " 24  ev95percent                191 non-null    float64\n",
      " 25  barrels                    191 non-null    float64\n",
      " 26  brl_percent                191 non-null    float64\n",
      " 27  brl_pa                     191 non-null    float64\n",
      " 28  name.1                     191 non-null    object \n",
      " 29  year                       191 non-null    float64\n",
      " 30  pa                         191 non-null    float64\n",
      " 31  single                     191 non-null    float64\n",
      " 32  double                     191 non-null    float64\n",
      " 33  triple                     191 non-null    float64\n",
      " 34  home_run                   191 non-null    float64\n",
      " 35  k_percent                  191 non-null    float64\n",
      " 36  bb_percent                 191 non-null    float64\n",
      " 37  batting_avg                191 non-null    float64\n",
      " 38  slg_percent                191 non-null    float64\n",
      " 39  on_base_percent            191 non-null    float64\n",
      " 40  on_base_plus_slg           191 non-null    float64\n",
      " 41  babip                      191 non-null    float64\n",
      " 42  rbi                        191 non-null    float64\n",
      " 43  total_distance             191 non-null    float64\n",
      "dtypes: float64(38), int64(2), object(4)\n",
      "memory usage: 65.8+ KB\n"
     ]
    }
   ],
   "source": [
    "data.info()"
   ]
  },
  {
   "cell_type": "code",
   "execution_count": 64,
   "metadata": {},
   "outputs": [
    {
     "data": {
      "text/html": [
       "<div>\n",
       "<style scoped>\n",
       "    .dataframe tbody tr th:only-of-type {\n",
       "        vertical-align: middle;\n",
       "    }\n",
       "\n",
       "    .dataframe tbody tr th {\n",
       "        vertical-align: top;\n",
       "    }\n",
       "\n",
       "    .dataframe thead th {\n",
       "        text-align: right;\n",
       "    }\n",
       "</style>\n",
       "<table border=\"1\" class=\"dataframe\">\n",
       "  <thead>\n",
       "    <tr style=\"text-align: right;\">\n",
       "      <th></th>\n",
       "      <th>Unnamed: 0</th>\n",
       "      <th>id</th>\n",
       "      <th>name</th>\n",
       "      <th>bat_side</th>\n",
       "      <th>side</th>\n",
       "      <th>avg_batter_y_position</th>\n",
       "      <th>avg_batter_x_position</th>\n",
       "      <th>avg_foot_sep</th>\n",
       "      <th>avg_stance_angle</th>\n",
       "      <th>avg_intercept_y_vs_batter</th>\n",
       "      <th>...</th>\n",
       "      <th>home_run</th>\n",
       "      <th>k_percent</th>\n",
       "      <th>bb_percent</th>\n",
       "      <th>batting_avg</th>\n",
       "      <th>slg_percent</th>\n",
       "      <th>on_base_percent</th>\n",
       "      <th>on_base_plus_slg</th>\n",
       "      <th>babip</th>\n",
       "      <th>rbi</th>\n",
       "      <th>total_distance</th>\n",
       "    </tr>\n",
       "  </thead>\n",
       "  <tbody>\n",
       "    <tr>\n",
       "      <th>0</th>\n",
       "      <td>0</td>\n",
       "      <td>646240</td>\n",
       "      <td>Devers, Rafael</td>\n",
       "      <td>L</td>\n",
       "      <td>L</td>\n",
       "      <td>22.279378</td>\n",
       "      <td>26.748551</td>\n",
       "      <td>30.539244</td>\n",
       "      <td>-62.212800</td>\n",
       "      <td>24.976058</td>\n",
       "      <td>...</td>\n",
       "      <td>2.0</td>\n",
       "      <td>28.7</td>\n",
       "      <td>16.7</td>\n",
       "      <td>0.213</td>\n",
       "      <td>0.360</td>\n",
       "      <td>0.343</td>\n",
       "      <td>0.703</td>\n",
       "      <td>0.298</td>\n",
       "      <td>12.0</td>\n",
       "      <td>34.811717</td>\n",
       "    </tr>\n",
       "    <tr>\n",
       "      <th>1</th>\n",
       "      <td>1</td>\n",
       "      <td>671218</td>\n",
       "      <td>Ramos, Heliot</td>\n",
       "      <td>R</td>\n",
       "      <td>R</td>\n",
       "      <td>25.126909</td>\n",
       "      <td>26.331432</td>\n",
       "      <td>27.614108</td>\n",
       "      <td>-3.089953</td>\n",
       "      <td>27.658252</td>\n",
       "      <td>...</td>\n",
       "      <td>3.0</td>\n",
       "      <td>25.5</td>\n",
       "      <td>5.9</td>\n",
       "      <td>0.221</td>\n",
       "      <td>0.389</td>\n",
       "      <td>0.275</td>\n",
       "      <td>0.664</td>\n",
       "      <td>0.273</td>\n",
       "      <td>9.0</td>\n",
       "      <td>36.396509</td>\n",
       "    </tr>\n",
       "    <tr>\n",
       "      <th>2</th>\n",
       "      <td>2</td>\n",
       "      <td>596115</td>\n",
       "      <td>Story, Trevor</td>\n",
       "      <td>R</td>\n",
       "      <td>R</td>\n",
       "      <td>25.374647</td>\n",
       "      <td>29.544740</td>\n",
       "      <td>35.944251</td>\n",
       "      <td>-23.651709</td>\n",
       "      <td>34.736567</td>\n",
       "      <td>...</td>\n",
       "      <td>5.0</td>\n",
       "      <td>26.9</td>\n",
       "      <td>3.2</td>\n",
       "      <td>0.337</td>\n",
       "      <td>0.528</td>\n",
       "      <td>0.366</td>\n",
       "      <td>0.894</td>\n",
       "      <td>0.424</td>\n",
       "      <td>14.0</td>\n",
       "      <td>38.945659</td>\n",
       "    </tr>\n",
       "    <tr>\n",
       "      <th>3</th>\n",
       "      <td>3</td>\n",
       "      <td>694192</td>\n",
       "      <td>Chourio, Jackson</td>\n",
       "      <td>R</td>\n",
       "      <td>R</td>\n",
       "      <td>24.504448</td>\n",
       "      <td>29.431268</td>\n",
       "      <td>40.658062</td>\n",
       "      <td>1.125542</td>\n",
       "      <td>28.706127</td>\n",
       "      <td>...</td>\n",
       "      <td>5.0</td>\n",
       "      <td>24.3</td>\n",
       "      <td>1.9</td>\n",
       "      <td>0.260</td>\n",
       "      <td>0.510</td>\n",
       "      <td>0.272</td>\n",
       "      <td>0.782</td>\n",
       "      <td>0.296</td>\n",
       "      <td>19.0</td>\n",
       "      <td>38.297095</td>\n",
       "    </tr>\n",
       "    <tr>\n",
       "      <th>4</th>\n",
       "      <td>4</td>\n",
       "      <td>666182</td>\n",
       "      <td>Bichette, Bo</td>\n",
       "      <td>R</td>\n",
       "      <td>R</td>\n",
       "      <td>26.984130</td>\n",
       "      <td>25.910743</td>\n",
       "      <td>36.238398</td>\n",
       "      <td>2.111014</td>\n",
       "      <td>24.651267</td>\n",
       "      <td>...</td>\n",
       "      <td>0.0</td>\n",
       "      <td>14.8</td>\n",
       "      <td>4.6</td>\n",
       "      <td>0.310</td>\n",
       "      <td>0.390</td>\n",
       "      <td>0.352</td>\n",
       "      <td>0.742</td>\n",
       "      <td>0.365</td>\n",
       "      <td>13.0</td>\n",
       "      <td>37.410024</td>\n",
       "    </tr>\n",
       "  </tbody>\n",
       "</table>\n",
       "<p>5 rows × 44 columns</p>\n",
       "</div>"
      ],
      "text/plain": [
       "   Unnamed: 0      id              name bat_side side  avg_batter_y_position  \\\n",
       "0           0  646240    Devers, Rafael        L    L              22.279378   \n",
       "1           1  671218     Ramos, Heliot        R    R              25.126909   \n",
       "2           2  596115     Story, Trevor        R    R              25.374647   \n",
       "3           3  694192  Chourio, Jackson        R    R              24.504448   \n",
       "4           4  666182      Bichette, Bo        R    R              26.984130   \n",
       "\n",
       "   avg_batter_x_position  avg_foot_sep  avg_stance_angle  \\\n",
       "0              26.748551     30.539244        -62.212800   \n",
       "1              26.331432     27.614108         -3.089953   \n",
       "2              29.544740     35.944251        -23.651709   \n",
       "3              29.431268     40.658062          1.125542   \n",
       "4              25.910743     36.238398          2.111014   \n",
       "\n",
       "   avg_intercept_y_vs_batter  ...  home_run  k_percent  bb_percent  \\\n",
       "0                  24.976058  ...       2.0       28.7        16.7   \n",
       "1                  27.658252  ...       3.0       25.5         5.9   \n",
       "2                  34.736567  ...       5.0       26.9         3.2   \n",
       "3                  28.706127  ...       5.0       24.3         1.9   \n",
       "4                  24.651267  ...       0.0       14.8         4.6   \n",
       "\n",
       "   batting_avg  slg_percent  on_base_percent  on_base_plus_slg  babip   rbi  \\\n",
       "0        0.213        0.360            0.343             0.703  0.298  12.0   \n",
       "1        0.221        0.389            0.275             0.664  0.273   9.0   \n",
       "2        0.337        0.528            0.366             0.894  0.424  14.0   \n",
       "3        0.260        0.510            0.272             0.782  0.296  19.0   \n",
       "4        0.310        0.390            0.352             0.742  0.365  13.0   \n",
       "\n",
       "   total_distance  \n",
       "0       34.811717  \n",
       "1       36.396509  \n",
       "2       38.945659  \n",
       "3       38.297095  \n",
       "4       37.410024  \n",
       "\n",
       "[5 rows x 44 columns]"
      ]
     },
     "execution_count": 64,
     "metadata": {},
     "output_type": "execute_result"
    }
   ],
   "source": [
    "data.head()"
   ]
  },
  {
   "cell_type": "code",
   "execution_count": 65,
   "metadata": {},
   "outputs": [],
   "source": [
    "## Choosing only the variables we want specifically for clustering\n",
    "cluster_data = data[['player_id', 'name','avg_batter_y_position', 'avg_batter_x_position', 'bat_side', 'avg_foot_sep', 'avg_stance_angle', 'total_distance']]"
   ]
  },
  {
   "cell_type": "code",
   "execution_count": 66,
   "metadata": {},
   "outputs": [],
   "source": [
    "## One-hot encoding the bat_side variable\n",
    "cluster_data = pd.get_dummies(cluster_data, columns=['bat_side'], drop_first=False)\n"
   ]
  },
  {
   "cell_type": "code",
   "execution_count": 67,
   "metadata": {},
   "outputs": [
    {
     "data": {
      "text/html": [
       "<div>\n",
       "<style scoped>\n",
       "    .dataframe tbody tr th:only-of-type {\n",
       "        vertical-align: middle;\n",
       "    }\n",
       "\n",
       "    .dataframe tbody tr th {\n",
       "        vertical-align: top;\n",
       "    }\n",
       "\n",
       "    .dataframe thead th {\n",
       "        text-align: right;\n",
       "    }\n",
       "</style>\n",
       "<table border=\"1\" class=\"dataframe\">\n",
       "  <thead>\n",
       "    <tr style=\"text-align: right;\">\n",
       "      <th></th>\n",
       "      <th>player_id</th>\n",
       "      <th>name</th>\n",
       "      <th>avg_batter_y_position</th>\n",
       "      <th>avg_batter_x_position</th>\n",
       "      <th>avg_foot_sep</th>\n",
       "      <th>avg_stance_angle</th>\n",
       "      <th>total_distance</th>\n",
       "      <th>bat_side_L</th>\n",
       "      <th>bat_side_R</th>\n",
       "    </tr>\n",
       "  </thead>\n",
       "  <tbody>\n",
       "    <tr>\n",
       "      <th>0</th>\n",
       "      <td>646240.0</td>\n",
       "      <td>Devers, Rafael</td>\n",
       "      <td>-1.367402</td>\n",
       "      <td>-0.360209</td>\n",
       "      <td>0.083382</td>\n",
       "      <td>-4.220017</td>\n",
       "      <td>-1.438881</td>\n",
       "      <td>1.104957</td>\n",
       "      <td>-1.104957</td>\n",
       "    </tr>\n",
       "    <tr>\n",
       "      <th>1</th>\n",
       "      <td>671218.0</td>\n",
       "      <td>Ramos, Heliot</td>\n",
       "      <td>-0.633509</td>\n",
       "      <td>-0.518228</td>\n",
       "      <td>-0.443707</td>\n",
       "      <td>0.716261</td>\n",
       "      <td>-0.925279</td>\n",
       "      <td>-0.905012</td>\n",
       "      <td>0.905012</td>\n",
       "    </tr>\n",
       "    <tr>\n",
       "      <th>2</th>\n",
       "      <td>596115.0</td>\n",
       "      <td>Story, Trevor</td>\n",
       "      <td>-0.569660</td>\n",
       "      <td>0.699085</td>\n",
       "      <td>1.057326</td>\n",
       "      <td>-1.000478</td>\n",
       "      <td>-0.099145</td>\n",
       "      <td>-0.905012</td>\n",
       "      <td>0.905012</td>\n",
       "    </tr>\n",
       "    <tr>\n",
       "      <th>3</th>\n",
       "      <td>694192.0</td>\n",
       "      <td>Chourio, Jackson</td>\n",
       "      <td>-0.793936</td>\n",
       "      <td>0.656098</td>\n",
       "      <td>1.906722</td>\n",
       "      <td>1.068221</td>\n",
       "      <td>-0.309333</td>\n",
       "      <td>-0.905012</td>\n",
       "      <td>0.905012</td>\n",
       "    </tr>\n",
       "    <tr>\n",
       "      <th>4</th>\n",
       "      <td>666182.0</td>\n",
       "      <td>Bichette, Bo</td>\n",
       "      <td>-0.154849</td>\n",
       "      <td>-0.677600</td>\n",
       "      <td>1.110329</td>\n",
       "      <td>1.150500</td>\n",
       "      <td>-0.596817</td>\n",
       "      <td>-0.905012</td>\n",
       "      <td>0.905012</td>\n",
       "    </tr>\n",
       "  </tbody>\n",
       "</table>\n",
       "</div>"
      ],
      "text/plain": [
       "   player_id              name  avg_batter_y_position  avg_batter_x_position  \\\n",
       "0   646240.0    Devers, Rafael              -1.367402              -0.360209   \n",
       "1   671218.0     Ramos, Heliot              -0.633509              -0.518228   \n",
       "2   596115.0     Story, Trevor              -0.569660               0.699085   \n",
       "3   694192.0  Chourio, Jackson              -0.793936               0.656098   \n",
       "4   666182.0      Bichette, Bo              -0.154849              -0.677600   \n",
       "\n",
       "   avg_foot_sep  avg_stance_angle  total_distance  bat_side_L  bat_side_R  \n",
       "0      0.083382         -4.220017       -1.438881    1.104957   -1.104957  \n",
       "1     -0.443707          0.716261       -0.925279   -0.905012    0.905012  \n",
       "2      1.057326         -1.000478       -0.099145   -0.905012    0.905012  \n",
       "3      1.906722          1.068221       -0.309333   -0.905012    0.905012  \n",
       "4      1.110329          1.150500       -0.596817   -0.905012    0.905012  "
      ]
     },
     "execution_count": 67,
     "metadata": {},
     "output_type": "execute_result"
    }
   ],
   "source": [
    "## Scaling the data\n",
    "cols_to_scale = cluster_data.columns.drop(['player_id', 'name'])\n",
    "\n",
    "scaler = StandardScaler()\n",
    "cluster_data[cols_to_scale] = scaler.fit_transform(cluster_data[cols_to_scale])\n",
    "cluster_data.head()"
   ]
  },
  {
   "cell_type": "code",
   "execution_count": 68,
   "metadata": {},
   "outputs": [],
   "source": [
    "## Converting the data to arrays for KMeans cluster\n",
    "cluster_array = cluster_data.drop(columns=['player_id', 'name']).values\n"
   ]
  },
  {
   "cell_type": "code",
   "execution_count": 69,
   "metadata": {},
   "outputs": [],
   "source": [
    "## Running the Clustering\n",
    "kmeans = KMeans(n_clusters=5, random_state=42)\n",
    "cluster_data['cluster'] = kmeans.fit_predict(cluster_array)"
   ]
  },
  {
   "cell_type": "code",
   "execution_count": 70,
   "metadata": {},
   "outputs": [],
   "source": [
    "## Introducing the cluster back into the full data\n",
    "data['cluster'] = cluster_data['cluster']"
   ]
  },
  {
   "cell_type": "code",
   "execution_count": 71,
   "metadata": {},
   "outputs": [
    {
     "data": {
      "text/html": [
       "<div>\n",
       "<style scoped>\n",
       "    .dataframe tbody tr th:only-of-type {\n",
       "        vertical-align: middle;\n",
       "    }\n",
       "\n",
       "    .dataframe tbody tr th {\n",
       "        vertical-align: top;\n",
       "    }\n",
       "\n",
       "    .dataframe thead th {\n",
       "        text-align: right;\n",
       "    }\n",
       "</style>\n",
       "<table border=\"1\" class=\"dataframe\">\n",
       "  <thead>\n",
       "    <tr style=\"text-align: right;\">\n",
       "      <th></th>\n",
       "      <th>Unnamed: 0</th>\n",
       "      <th>id</th>\n",
       "      <th>name</th>\n",
       "      <th>bat_side</th>\n",
       "      <th>side</th>\n",
       "      <th>avg_batter_y_position</th>\n",
       "      <th>avg_batter_x_position</th>\n",
       "      <th>avg_foot_sep</th>\n",
       "      <th>avg_stance_angle</th>\n",
       "      <th>avg_intercept_y_vs_batter</th>\n",
       "      <th>...</th>\n",
       "      <th>k_percent</th>\n",
       "      <th>bb_percent</th>\n",
       "      <th>batting_avg</th>\n",
       "      <th>slg_percent</th>\n",
       "      <th>on_base_percent</th>\n",
       "      <th>on_base_plus_slg</th>\n",
       "      <th>babip</th>\n",
       "      <th>rbi</th>\n",
       "      <th>total_distance</th>\n",
       "      <th>cluster</th>\n",
       "    </tr>\n",
       "  </thead>\n",
       "  <tbody>\n",
       "    <tr>\n",
       "      <th>135</th>\n",
       "      <td>142</td>\n",
       "      <td>805779</td>\n",
       "      <td>Wilson, Jacob</td>\n",
       "      <td>R</td>\n",
       "      <td>R</td>\n",
       "      <td>28.167075</td>\n",
       "      <td>26.662485</td>\n",
       "      <td>29.220876</td>\n",
       "      <td>-47.155834</td>\n",
       "      <td>29.237548</td>\n",
       "      <td>...</td>\n",
       "      <td>3.7</td>\n",
       "      <td>0.0</td>\n",
       "      <td>0.354</td>\n",
       "      <td>0.500</td>\n",
       "      <td>0.354</td>\n",
       "      <td>0.854</td>\n",
       "      <td>0.351</td>\n",
       "      <td>10.0</td>\n",
       "      <td>38.784948</td>\n",
       "      <td>2</td>\n",
       "    </tr>\n",
       "    <tr>\n",
       "      <th>106</th>\n",
       "      <td>108</td>\n",
       "      <td>700932</td>\n",
       "      <td>Manzardo, Kyle</td>\n",
       "      <td>L</td>\n",
       "      <td>L</td>\n",
       "      <td>22.570532</td>\n",
       "      <td>31.045514</td>\n",
       "      <td>35.357626</td>\n",
       "      <td>-4.349129</td>\n",
       "      <td>33.861267</td>\n",
       "      <td>...</td>\n",
       "      <td>24.7</td>\n",
       "      <td>14.1</td>\n",
       "      <td>0.217</td>\n",
       "      <td>0.580</td>\n",
       "      <td>0.329</td>\n",
       "      <td>0.909</td>\n",
       "      <td>0.182</td>\n",
       "      <td>16.0</td>\n",
       "      <td>38.382976</td>\n",
       "      <td>1</td>\n",
       "    </tr>\n",
       "    <tr>\n",
       "      <th>66</th>\n",
       "      <td>66</td>\n",
       "      <td>607208</td>\n",
       "      <td>Turner, Trea</td>\n",
       "      <td>R</td>\n",
       "      <td>R</td>\n",
       "      <td>27.365713</td>\n",
       "      <td>28.246507</td>\n",
       "      <td>39.405683</td>\n",
       "      <td>0.309842</td>\n",
       "      <td>29.044935</td>\n",
       "      <td>...</td>\n",
       "      <td>19.4</td>\n",
       "      <td>11.8</td>\n",
       "      <td>0.263</td>\n",
       "      <td>0.350</td>\n",
       "      <td>0.366</td>\n",
       "      <td>0.716</td>\n",
       "      <td>0.328</td>\n",
       "      <td>6.0</td>\n",
       "      <td>39.328710</td>\n",
       "      <td>4</td>\n",
       "    </tr>\n",
       "    <tr>\n",
       "      <th>143</th>\n",
       "      <td>152</td>\n",
       "      <td>502054</td>\n",
       "      <td>Pham, Tommy</td>\n",
       "      <td>R</td>\n",
       "      <td>R</td>\n",
       "      <td>31.949628</td>\n",
       "      <td>28.273065</td>\n",
       "      <td>35.996453</td>\n",
       "      <td>-5.590494</td>\n",
       "      <td>31.775066</td>\n",
       "      <td>...</td>\n",
       "      <td>27.3</td>\n",
       "      <td>10.4</td>\n",
       "      <td>0.149</td>\n",
       "      <td>0.194</td>\n",
       "      <td>0.247</td>\n",
       "      <td>0.441</td>\n",
       "      <td>0.213</td>\n",
       "      <td>5.0</td>\n",
       "      <td>42.663157</td>\n",
       "      <td>0</td>\n",
       "    </tr>\n",
       "    <tr>\n",
       "      <th>183</th>\n",
       "      <td>267</td>\n",
       "      <td>669242</td>\n",
       "      <td>Edman, Tommy</td>\n",
       "      <td>R</td>\n",
       "      <td>R</td>\n",
       "      <td>26.069742</td>\n",
       "      <td>28.867889</td>\n",
       "      <td>23.475877</td>\n",
       "      <td>-5.745683</td>\n",
       "      <td>29.912600</td>\n",
       "      <td>...</td>\n",
       "      <td>14.9</td>\n",
       "      <td>3.2</td>\n",
       "      <td>0.261</td>\n",
       "      <td>0.545</td>\n",
       "      <td>0.298</td>\n",
       "      <td>0.843</td>\n",
       "      <td>0.235</td>\n",
       "      <td>15.0</td>\n",
       "      <td>38.897126</td>\n",
       "      <td>0</td>\n",
       "    </tr>\n",
       "  </tbody>\n",
       "</table>\n",
       "<p>5 rows × 45 columns</p>\n",
       "</div>"
      ],
      "text/plain": [
       "     Unnamed: 0      id            name bat_side side  avg_batter_y_position  \\\n",
       "135         142  805779   Wilson, Jacob        R    R              28.167075   \n",
       "106         108  700932  Manzardo, Kyle        L    L              22.570532   \n",
       "66           66  607208    Turner, Trea        R    R              27.365713   \n",
       "143         152  502054     Pham, Tommy        R    R              31.949628   \n",
       "183         267  669242    Edman, Tommy        R    R              26.069742   \n",
       "\n",
       "     avg_batter_x_position  avg_foot_sep  avg_stance_angle  \\\n",
       "135              26.662485     29.220876        -47.155834   \n",
       "106              31.045514     35.357626         -4.349129   \n",
       "66               28.246507     39.405683          0.309842   \n",
       "143              28.273065     35.996453         -5.590494   \n",
       "183              28.867889     23.475877         -5.745683   \n",
       "\n",
       "     avg_intercept_y_vs_batter  ...  k_percent  bb_percent  batting_avg  \\\n",
       "135                  29.237548  ...        3.7         0.0        0.354   \n",
       "106                  33.861267  ...       24.7        14.1        0.217   \n",
       "66                   29.044935  ...       19.4        11.8        0.263   \n",
       "143                  31.775066  ...       27.3        10.4        0.149   \n",
       "183                  29.912600  ...       14.9         3.2        0.261   \n",
       "\n",
       "     slg_percent  on_base_percent  on_base_plus_slg  babip   rbi  \\\n",
       "135        0.500            0.354             0.854  0.351  10.0   \n",
       "106        0.580            0.329             0.909  0.182  16.0   \n",
       "66         0.350            0.366             0.716  0.328   6.0   \n",
       "143        0.194            0.247             0.441  0.213   5.0   \n",
       "183        0.545            0.298             0.843  0.235  15.0   \n",
       "\n",
       "     total_distance  cluster  \n",
       "135       38.784948        2  \n",
       "106       38.382976        1  \n",
       "66        39.328710        4  \n",
       "143       42.663157        0  \n",
       "183       38.897126        0  \n",
       "\n",
       "[5 rows x 45 columns]"
      ]
     },
     "execution_count": 71,
     "metadata": {},
     "output_type": "execute_result"
    }
   ],
   "source": [
    "data.sample(5)"
   ]
  },
  {
   "cell_type": "code",
   "execution_count": 78,
   "metadata": {},
   "outputs": [
    {
     "name": "stdout",
     "output_type": "stream",
     "text": [
      "[3 4 0 2 1]\n",
      "cluster\n",
      "1    75\n",
      "4    38\n",
      "2    34\n",
      "0    28\n",
      "3    16\n",
      "Name: count, dtype: int64\n"
     ]
    }
   ],
   "source": [
    "print(cluster_data['cluster'].unique())\n",
    "print(cluster_data['cluster'].value_counts())\n"
   ]
  },
  {
   "cell_type": "code",
   "execution_count": null,
   "metadata": {},
   "outputs": [
    {
     "data": {
      "application/vnd.plotly.v1+json": {
       "config": {
        "plotlyServerURL": "https://plot.ly"
       },
       "data": [
        {
         "customdata": [
          [
           "Devers, Rafael",
           646240
          ],
          [
           "Arozarena, Randy",
           668227
          ],
          [
           "Suárez, Eugenio",
           553993
          ],
          [
           "Lee, Jung Hoo",
           808982
          ],
          [
           "Santander, Anthony",
           623993
          ],
          [
           "Schwarber, Kyle",
           656941
          ],
          [
           "Altuve, Jose",
           514888
          ],
          [
           "Scott II, Victor",
           687363
          ],
          [
           "Rengifo, Luis",
           650859
          ],
          [
           "Frazier, Adam",
           624428
          ],
          [
           "Kwan, Steven",
           680757
          ],
          [
           "Perdomo, Geraldo",
           672695
          ],
          [
           "Edwards, Xavier",
           669364
          ],
          [
           "Domínguez, Jasson",
           691176
          ],
          [
           "Edwards, Xavier",
           669364
          ],
          [
           "Rengifo, Luis",
           650859
          ]
         ],
         "hovertemplate": "cluster=3<br>PC1=%{x}<br>PC2=%{y}<br>name=%{customdata[0]}<br>player_id=%{customdata[1]}<extra></extra>",
         "legendgroup": "3",
         "marker": {
          "color": "rgb(102,194,165)",
          "line": {
           "color": "black",
           "width": 0.5
          },
          "opacity": 0.75,
          "size": 8,
          "symbol": "circle"
         },
         "mode": "markers",
         "name": "3",
         "orientation": "v",
         "showlegend": true,
         "type": "scatter",
         "x": [
          22.65143394470215,
          -20.800739288330078,
          -20.490314483642578,
          22.901020050048828,
          21.911863327026367,
          22.047502517700195,
          -20.47381591796875,
          22.95681381225586,
          21.86846923828125,
          21.442169189453125,
          23.969573974609375,
          21.463350296020508,
          21.76621437072754,
          23.439132690429688,
          -20.514503479003906,
          -19.97365379333496
         ],
         "xaxis": "x",
         "y": [
          5.319916725158691,
          -5.017673492431641,
          -5.4943108558654785,
          4.9557318687438965,
          3.4488914012908936,
          3.392017126083374,
          -4.550666809082031,
          5.124855995178223,
          3.789778470993042,
          3.357679605484009,
          5.054725170135498,
          3.302492618560791,
          3.932112693786621,
          4.627796649932861,
          -5.434475898742676,
          -5.370201587677002
         ],
         "yaxis": "y"
        },
        {
         "customdata": [
          [
           "Ramos, Heliot",
           671218
          ],
          [
           "Story, Trevor",
           596115
          ],
          [
           "Chourio, Jackson",
           694192
          ],
          [
           "Bichette, Bo",
           666182
          ],
          [
           "Rodríguez, Julio",
           677594
          ],
          [
           "Witt Jr., Bobby",
           677951
          ],
          [
           "Contreras, Willson",
           575929
          ],
          [
           "Alonso, Pete",
           624413
          ],
          [
           "García, Adolis",
           666969
          ],
          [
           "Bregman, Alex",
           608324
          ],
          [
           "Semien, Marcus",
           543760
          ],
          [
           "Turner, Trea",
           607208
          ],
          [
           "Bohm, Alec",
           664761
          ],
          [
           "Flores, Wilmer",
           527038
          ],
          [
           "Buxton, Byron",
           621439
          ],
          [
           "Suzuki, Seiya",
           673548
          ],
          [
           "India, Jonathan",
           663697
          ],
          [
           "Bogaerts, Xander",
           593428
          ],
          [
           "Hoerner, Nico",
           663538
          ],
          [
           "Vientos, Mark",
           668901
          ],
          [
           "Diaz, Yainer",
           673237
          ],
          [
           "Fitzgerald, Tyler",
           666149
          ],
          [
           "Correa, Carlos",
           621043
          ],
          [
           "Westburg, Jordan",
           676059
          ],
          [
           "Tovar, Ezequiel",
           678662
          ],
          [
           "Steer, Spencer",
           668715
          ],
          [
           "Betts, Mookie",
           605141
          ],
          [
           "Langeliers, Shea",
           669127
          ],
          [
           "Wagaman, Eric",
           676572
          ],
          [
           "Springer, George",
           543807
          ],
          [
           "Raleigh, Cal",
           663728
          ],
          [
           "Toglia, Michael",
           669911
          ],
          [
           "Candelario, Jeimer",
           600869
          ],
          [
           "Ramírez, José",
           608070
          ],
          [
           "Santander, Anthony",
           623993
          ],
          [
           "Perdomo, Geraldo",
           672695
          ],
          [
           "Lindor, Francisco",
           596019
          ],
          [
           "Rutschman, Adley",
           668939
          ]
         ],
         "hovertemplate": "cluster=4<br>PC1=%{x}<br>PC2=%{y}<br>name=%{customdata[0]}<br>player_id=%{customdata[1]}<extra></extra>",
         "legendgroup": "4",
         "marker": {
          "color": "rgb(252,141,98)",
          "line": {
           "color": "black",
           "width": 0.5
          },
          "opacity": 0.75,
          "size": 8,
          "symbol": "circle"
         },
         "mode": "markers",
         "name": "4",
         "orientation": "v",
         "showlegend": true,
         "type": "scatter",
         "x": [
          -18.32973861694336,
          -15.054993629455566,
          -16.28438949584961,
          -17.198923110961914,
          -19.47205352783203,
          -17.684160232543945,
          -19.980148315429688,
          -18.84280014038086,
          -17.341646194458008,
          -17.807228088378906,
          -17.96061134338379,
          -16.41416358947754,
          -16.552719116210938,
          -16.643524169921875,
          -18.03096580505371,
          -16.19538688659668,
          -16.007240295410156,
          -20.039649963378906,
          -15.758292198181152,
          -16.407045364379883,
          -16.4036922454834,
          -17.74338722229004,
          -16.782373428344727,
          -19.827220916748047,
          -17.249711990356445,
          -16.892789840698242,
          -18.511863708496094,
          -15.501392364501953,
          -19.17583656311035,
          -16.91000747680664,
          -18.427032470703125,
          -19.4774169921875,
          -17.05475616455078,
          -16.017396926879883,
          -18.861295700073242,
          -19.587932586669922,
          -17.758298873901367,
          -16.56381607055664
         ],
         "xaxis": "x",
         "y": [
          -4.165873050689697,
          -1.238499641418457,
          -4.4031982421875,
          -4.965713024139404,
          -4.178832530975342,
          -4.604833126068115,
          -4.189752101898193,
          -4.513322830200195,
          -2.7065610885620117,
          -5.301259994506836,
          -5.050895690917969,
          -4.590638160705566,
          -4.038023948669434,
          -5.225142955780029,
          -3.738629102706909,
          -1.4575811624526978,
          -1.6739070415496826,
          -4.8151774406433105,
          -0.522702693939209,
          -2.197816848754883,
          -3.0216586589813232,
          -4.699483871459961,
          -3.7753710746765137,
          -3.8074498176574707,
          -5.38763952255249,
          -4.743974208831787,
          -3.7122957706451416,
          -1.582639217376709,
          -4.258988857269287,
          -2.5069873332977295,
          -4.602481365203857,
          -4.177192687988281,
          -4.471554756164551,
          -0.7324134111404419,
          -4.2430033683776855,
          -5.466859340667725,
          -3.1661536693573,
          -4.897077560424805
         ],
         "yaxis": "y"
        },
        {
         "customdata": [
          [
           "Riley, Austin",
           663586
          ],
          [
           "Castellanos, Nick",
           592206
          ],
          [
           "Adames, Willy",
           642715
          ],
          [
           "Judge, Aaron",
           592450
          ],
          [
           "Vargas, Miguel",
           678246
          ],
          [
           "Vaughn, Andrew",
           683734
          ],
          [
           "Chapman, Matt",
           656305
          ],
          [
           "Volpe, Anthony",
           683011
          ],
          [
           "Contreras, William",
           661388
          ],
          [
           "Guerrero Jr., Vladimir",
           665489
          ],
          [
           "Campbell, Kristian",
           692225
          ],
          [
           "Goldschmidt, Paul",
           502671
          ],
          [
           "Hernández, Teoscar",
           606192
          ],
          [
           "Soler, Jorge",
           624585
          ],
          [
           "Sosa, Lenyn",
           672820
          ],
          [
           "Arenado, Nolan",
           571448
          ],
          [
           "Arias, Gabriel",
           672356
          ],
          [
           "Hoskins, Rhys",
           656555
          ],
          [
           "Lopez, Otto",
           672640
          ],
          [
           "Garcia, Maikel",
           672580
          ],
          [
           "Andujar, Miguel",
           609280
          ],
          [
           "Burger, Jake",
           669394
          ],
          [
           "Pham, Tommy",
           502054
          ],
          [
           "Happ, Ian",
           664023
          ],
          [
           "Reynolds, Bryan",
           668804
          ],
          [
           "Ruiz, Keibert",
           660688
          ],
          [
           "Edman, Tommy",
           669242
          ],
          [
           "Castro, Willi",
           650489
          ]
         ],
         "hovertemplate": "cluster=0<br>PC1=%{x}<br>PC2=%{y}<br>name=%{customdata[0]}<br>player_id=%{customdata[1]}<extra></extra>",
         "legendgroup": "0",
         "marker": {
          "color": "rgb(141,160,203)",
          "line": {
           "color": "black",
           "width": 0.5
          },
          "opacity": 0.75,
          "size": 8,
          "symbol": "circle"
         },
         "mode": "markers",
         "name": "0",
         "orientation": "v",
         "showlegend": true,
         "type": "scatter",
         "x": [
          -15.261001586914062,
          -10.345794677734375,
          -9.484408378601074,
          -8.849940299987793,
          -10.189234733581543,
          -9.218356132507324,
          -10.77600383758545,
          -10.208248138427734,
          -10.436433792114258,
          -10.995909690856934,
          -9.707218170166016,
          -8.906376838684082,
          -9.545600891113281,
          -12.560953140258789,
          -10.754189491271973,
          -9.424298286437988,
          -8.482211112976074,
          -10.14049243927002,
          -9.881335258483887,
          -15.928844451904297,
          -10.128427505493164,
          -19.9883975982666,
          -9.17047119140625,
          -10.542630195617676,
          -9.621028900146484,
          -11.73612117767334,
          -16.492441177368164,
          -9.66759204864502
         ],
         "xaxis": "x",
         "y": [
          -0.01911822333931923,
          7.383792877197266,
          7.952983379364014,
          7.386872291564941,
          6.909511089324951,
          7.403998374938965,
          6.4973626136779785,
          7.0525126457214355,
          8.034258842468262,
          7.248745918273926,
          8.398159980773926,
          8.260327339172363,
          6.972552299499512,
          3.1121795177459717,
          6.7306413650512695,
          7.3089728355407715,
          7.22584867477417,
          6.450829029083252,
          8.020054817199707,
          0.051686082035303116,
          7.773413181304932,
          -3.519353151321411,
          7.920722007751465,
          7.748106002807617,
          7.428463459014893,
          4.129587650299072,
          -1.815964698791504,
          6.385143280029297
         ],
         "yaxis": "y"
        },
        {
         "customdata": [
          [
           "Machado, Manny",
           592518
          ],
          [
           "Rooker, Brent",
           667670
          ],
          [
           "Torkelson, Spencer",
           679529
          ],
          [
           "Perez, Salvador",
           521692
          ],
          [
           "Swanson, Dansby",
           621020
          ],
          [
           "Tatis Jr., Fernando",
           665487
          ],
          [
           "Walker, Jordan",
           691023
          ],
          [
           "Walker, Christian",
           572233
          ],
          [
           "Paredes, Isaac",
           670623
          ],
          [
           "Trout, Mike",
           545361
          ],
          [
           "France, Ty",
           664034
          ],
          [
           "Díaz, Yandy",
           650490
          ],
          [
           "Caminero, Junior",
           691406
          ],
          [
           "Rafaela, Ceddanne",
           678882
          ],
          [
           "Pages, Andy",
           681624
          ],
          [
           "Peña, Jeremy",
           665161
          ],
          [
           "Gurriel Jr., Lourdes",
           666971
          ],
          [
           "Robert Jr., Luis",
           673357
          ],
          [
           "Goodman, Hunter",
           696100
          ],
          [
           "Realmuto, J.T.",
           592663
          ],
          [
           "Ward, Taylor",
           621493
          ],
          [
           "Ortiz, Joey",
           687401
          ],
          [
           "Hayes, Ke'Bryan",
           663647
          ],
          [
           "Wilson, Jacob",
           805779
          ],
          [
           "Muncy, Max",
           691777
          ],
          [
           "Ozuna, Marcell",
           542303
          ],
          [
           "Kiner-Falefa, Isiah",
           643396
          ],
          [
           "Crews, Dylan",
           686611
          ],
          [
           "Smith, Will",
           669257
          ],
          [
           "Domínguez, Jasson",
           691176
          ],
          [
           "De La Cruz, Elly",
           682829
          ],
          [
           "Santana, Carlos",
           467793
          ],
          [
           "Albies, Ozzie",
           645277
          ],
          [
           "Bell, Josh",
           605137
          ]
         ],
         "hovertemplate": "cluster=2<br>PC1=%{x}<br>PC2=%{y}<br>name=%{customdata[0]}<br>player_id=%{customdata[1]}<extra></extra>",
         "legendgroup": "2",
         "marker": {
          "color": "rgb(231,138,195)",
          "line": {
           "color": "black",
           "width": 0.5
          },
          "opacity": 0.75,
          "size": 8,
          "symbol": "circle"
         },
         "mode": "markers",
         "name": "2",
         "orientation": "v",
         "showlegend": true,
         "type": "scatter",
         "x": [
          -14.57606315612793,
          -11.46841049194336,
          -10.817087173461914,
          -13.212145805358887,
          -11.590189933776855,
          -14.494455337524414,
          -15.072333335876465,
          -14.885435104370117,
          -13.600985527038574,
          -15.61556625366211,
          -13.480048179626465,
          -12.214153289794922,
          -13.709781646728516,
          -12.064577102661133,
          -11.089823722839355,
          -14.950508117675781,
          -15.790277481079102,
          -12.850147247314453,
          -12.077199935913086,
          -11.403082847595215,
          -12.212252616882324,
          -12.397982597351074,
          -11.455918312072754,
          -14.10841178894043,
          -14.024870872497559,
          -12.851248741149902,
          -13.915793418884277,
          -15.165745735168457,
          -10.969881057739258,
          -14.442268371582031,
          -11.765482902526855,
          -13.523259162902832,
          -14.516408920288086,
          -11.785393714904785
         ],
         "xaxis": "x",
         "y": [
          -1.1469964981079102,
          5.401708126068115,
          5.241055488586426,
          2.8933370113372803,
          6.071113586425781,
          2.5911200046539307,
          -0.7686100602149963,
          0.1773955225944519,
          3.013254165649414,
          -0.010616344399750233,
          2.5490691661834717,
          3.8916120529174805,
          2.0879170894622803,
          5.542449474334717,
          5.433323383331299,
          0.6336866021156311,
          -0.4049213230609894,
          3.4545767307281494,
          6.018659591674805,
          5.872149467468262,
          4.925479412078857,
          4.245168685913086,
          5.191294193267822,
          2.827366828918457,
          1.5003767013549805,
          3.7370243072509766,
          2.2310116291046143,
          0.22140799462795258,
          5.87158203125,
          2.2259786128997803,
          3.61612606048584,
          2.4031498432159424,
          3.578148365020752,
          4.973357200622559
         ],
         "yaxis": "y"
        },
        {
         "customdata": [
          [
           "Tucker, Kyle",
           663656
          ],
          [
           "Turang, Brice",
           668930
          ],
          [
           "Greene, Riley",
           682985
          ],
          [
           "Crow-Armstrong, Pete",
           691718
          ],
          [
           "Giménez, Andrés",
           665926
          ],
          [
           "Harper, Bryce",
           547180
          ],
          [
           "Carroll, Corbin",
           682998
          ],
          [
           "Nimmo, Brandon",
           607043
          ],
          [
           "Chisholm Jr., Jazz",
           665862
          ],
          [
           "Duran, Jarren",
           680776
          ],
          [
           "McMahon, Ryan",
           641857
          ],
          [
           "Wood, James",
           695578
          ],
          [
           "Abreu, Wilyer",
           677800
          ],
          [
           "Lowe, Nathaniel",
           663993
          ],
          [
           "Stowers, Kyle",
           669065
          ],
          [
           "Donovan, Brendan",
           680977
          ],
          [
           "Alvarez, Yordan",
           670541
          ],
          [
           "Olson, Matt",
           621566
          ],
          [
           "Yelich, Christian",
           592885
          ],
          [
           "Harris II, Michael",
           671739
          ],
          [
           "Casas, Triston",
           671213
          ],
          [
           "Bellinger, Cody",
           641355
          ],
          [
           "Wells, Austin",
           669224
          ],
          [
           "McKinstry, Zach",
           656716
          ],
          [
           "Butler, Lawrence",
           671732
          ],
          [
           "Soderstrom, Tyler",
           691016
          ],
          [
           "Ohtani, Shohei",
           660271
          ],
          [
           "Nootbaar, Lars",
           663457
          ],
          [
           "Kepler, Max",
           596146
          ],
          [
           "Pasquantino, Vinnie",
           686469
          ],
          [
           "Seager, Corey",
           608369
          ],
          [
           "Reynolds, Bryan",
           668804
          ],
          [
           "Crawford, J.P.",
           641487
          ],
          [
           "Mullins, Cedric",
           656775
          ],
          [
           "Arraez, Luis",
           650333
          ],
          [
           "Lowe, Brandon",
           664040
          ],
          [
           "Lux, Gavin",
           666158
          ],
          [
           "Massey, Michael",
           686681
          ],
          [
           "Happ, Ian",
           664023
          ],
          [
           "Larnach, Trevor",
           663616
          ],
          [
           "Carpenter, Kerry",
           681481
          ],
          [
           "Stott, Bryson",
           681082
          ],
          [
           "Manzardo, Kyle",
           700932
          ],
          [
           "Frelick, Sal",
           686217
          ],
          [
           "Muncy, Max",
           571970
          ],
          [
           "Lindor, Francisco",
           596019
          ],
          [
           "Soto, Juan",
           665742
          ],
          [
           "Aranda, Jonathan",
           666018
          ],
          [
           "Conforto, Michael",
           624424
          ],
          [
           "Busch, Michael",
           683737
          ],
          [
           "Raleigh, Cal",
           663728
          ],
          [
           "Friedl, TJ",
           670770
          ],
          [
           "Yastrzemski, Mike",
           573262
          ],
          [
           "Burleson, Alec",
           676475
          ],
          [
           "Schanuel, Nolan",
           694384
          ],
          [
           "Bleday, JJ",
           668709
          ],
          [
           "Cruz, Oneil",
           665833
          ],
          [
           "Castro, Willi",
           650489
          ],
          [
           "Naylor, Josh",
           647304
          ],
          [
           "Wade Jr., LaMonte",
           664774
          ],
          [
           "Conine, Griffin",
           665052
          ],
          [
           "Santana, Carlos",
           467793
          ],
          [
           "Sweeney, Trey",
           700242
          ],
          [
           "Rice, Ben",
           700250
          ],
          [
           "García Jr., Luis",
           671277
          ],
          [
           "Albies, Ozzie",
           645277
          ],
          [
           "Bell, Josh",
           605137
          ],
          [
           "Keith, Colt",
           690993
          ],
          [
           "Candelario, Jeimer",
           600869
          ],
          [
           "Ramírez, José",
           608070
          ],
          [
           "De La Cruz, Elly",
           682829
          ],
          [
           "Toglia, Michael",
           669911
          ],
          [
           "Edman, Tommy",
           669242
          ],
          [
           "Rutschman, Adley",
           668939
          ],
          [
           "Ruiz, Keibert",
           660688
          ]
         ],
         "hovertemplate": "cluster=1<br>PC1=%{x}<br>PC2=%{y}<br>name=%{customdata[0]}<br>player_id=%{customdata[1]}<extra></extra>",
         "legendgroup": "1",
         "marker": {
          "color": "rgb(166,216,84)",
          "line": {
           "color": "black",
           "width": 0.5
          },
          "opacity": 0.75,
          "size": 8,
          "symbol": "circle"
         },
         "mode": "markers",
         "name": "1",
         "orientation": "v",
         "showlegend": true,
         "type": "scatter",
         "x": [
          21.10091209411621,
          20.180498123168945,
          23.39023208618164,
          20.75896644592285,
          19.45820426940918,
          22.666231155395508,
          20.103437423706055,
          19.749120712280273,
          22.25557518005371,
          19.960342407226562,
          24.050016403198242,
          19.097179412841797,
          19.408157348632812,
          20.917160034179688,
          20.321800231933594,
          22.174285888671875,
          23.15797996520996,
          20.16518783569336,
          21.765289306640625,
          19.2585506439209,
          19.468944549560547,
          20.589632034301758,
          20.807235717773438,
          22.44937515258789,
          20.946630477905273,
          20.328872680664062,
          20.52079200744629,
          24.01546287536621,
          18.246217727661133,
          19.983074188232422,
          18.96400260925293,
          23.663475036621094,
          18.393047332763672,
          20.500574111938477,
          18.754528045654297,
          23.777421951293945,
          18.65171241760254,
          22.167516708374023,
          20.436397552490234,
          22.166179656982422,
          19.058887481689453,
          23.501996994018555,
          22.719703674316406,
          19.71246910095215,
          23.804174423217773,
          23.33099365234375,
          23.55999183654785,
          19.62946128845215,
          22.457401275634766,
          20.516151428222656,
          23.300308227539062,
          19.25826644897461,
          23.679590225219727,
          20.562124252319336,
          21.406461715698242,
          21.02568817138672,
          23.19699478149414,
          20.591014862060547,
          23.70973014831543,
          20.852476119995117,
          18.89767074584961,
          23.563087463378906,
          23.99904441833496,
          19.323226928710938,
          22.150848388671875,
          18.505374908447266,
          22.581554412841797,
          22.56243133544922,
          22.505807876586914,
          23.20703125,
          18.37359046936035,
          21.740234375,
          23.706438064575195,
          23.164573669433594,
          18.722124099731445
         ],
         "xaxis": "x",
         "y": [
          -6.820735454559326,
          -5.322269439697266,
          3.56282114982605,
          -5.365769863128662,
          -7.3951497077941895,
          1.9665722846984863,
          -8.17750358581543,
          -7.994360446929932,
          -0.38339531421661377,
          -8.455843925476074,
          1.0492280721664429,
          -7.042829990386963,
          -5.568156719207764,
          -7.1095099449157715,
          -6.98603630065918,
          0.5546656250953674,
          1.174282431602478,
          -7.564587116241455,
          0.2403019666671753,
          -8.580070495605469,
          -8.307308197021484,
          -3.312915563583374,
          -3.525050640106201,
          0.6460703611373901,
          -7.563042163848877,
          -7.166502952575684,
          -7.359741687774658,
          4.012117385864258,
          -7.319200038909912,
          -6.761941909790039,
          -7.063867568969727,
          1.0769097805023193,
          -6.291827201843262,
          -4.221192359924316,
          -5.708586692810059,
          3.3150880336761475,
          -6.152256488800049,
          0.9770134687423706,
          -4.590690612792969,
          -0.12443577498197556,
          -8.147500991821289,
          1.7524396181106567,
          1.6082310676574707,
          -7.6897873878479,
          3.0366153717041016,
          2.916868209838867,
          0.7454782724380493,
          -7.027669906616211,
          1.5486136674880981,
          -4.736355304718018,
          3.6341359615325928,
          -5.279463291168213,
          3.6749346256256104,
          -3.5945262908935547,
          -2.0106418132781982,
          -6.67268180847168,
          0.591033399105072,
          -3.872706890106201,
          0.9891859292984009,
          -3.486860513687134,
          -7.195387840270996,
          4.456532001495361,
          3.9664297103881836,
          -6.322700023651123,
          1.082231879234314,
          -5.123464584350586,
          0.09359937161207199,
          2.0049986839294434,
          0.7682979106903076,
          4.173736572265625,
          -7.632787704467773,
          0.3592095375061035,
          3.989682912826538,
          0.7141311168670654,
          -5.549154758453369
         ],
         "yaxis": "y"
        }
       ],
       "layout": {
        "legend": {
         "title": {
          "text": "cluster"
         },
         "tracegroupgap": 0
        },
        "template": {
         "data": {
          "bar": [
           {
            "error_x": {
             "color": "#2a3f5f"
            },
            "error_y": {
             "color": "#2a3f5f"
            },
            "marker": {
             "line": {
              "color": "white",
              "width": 0.5
             },
             "pattern": {
              "fillmode": "overlay",
              "size": 10,
              "solidity": 0.2
             }
            },
            "type": "bar"
           }
          ],
          "barpolar": [
           {
            "marker": {
             "line": {
              "color": "white",
              "width": 0.5
             },
             "pattern": {
              "fillmode": "overlay",
              "size": 10,
              "solidity": 0.2
             }
            },
            "type": "barpolar"
           }
          ],
          "carpet": [
           {
            "aaxis": {
             "endlinecolor": "#2a3f5f",
             "gridcolor": "#C8D4E3",
             "linecolor": "#C8D4E3",
             "minorgridcolor": "#C8D4E3",
             "startlinecolor": "#2a3f5f"
            },
            "baxis": {
             "endlinecolor": "#2a3f5f",
             "gridcolor": "#C8D4E3",
             "linecolor": "#C8D4E3",
             "minorgridcolor": "#C8D4E3",
             "startlinecolor": "#2a3f5f"
            },
            "type": "carpet"
           }
          ],
          "choropleth": [
           {
            "colorbar": {
             "outlinewidth": 0,
             "ticks": ""
            },
            "type": "choropleth"
           }
          ],
          "contour": [
           {
            "colorbar": {
             "outlinewidth": 0,
             "ticks": ""
            },
            "colorscale": [
             [
              0,
              "#0d0887"
             ],
             [
              0.1111111111111111,
              "#46039f"
             ],
             [
              0.2222222222222222,
              "#7201a8"
             ],
             [
              0.3333333333333333,
              "#9c179e"
             ],
             [
              0.4444444444444444,
              "#bd3786"
             ],
             [
              0.5555555555555556,
              "#d8576b"
             ],
             [
              0.6666666666666666,
              "#ed7953"
             ],
             [
              0.7777777777777778,
              "#fb9f3a"
             ],
             [
              0.8888888888888888,
              "#fdca26"
             ],
             [
              1,
              "#f0f921"
             ]
            ],
            "type": "contour"
           }
          ],
          "contourcarpet": [
           {
            "colorbar": {
             "outlinewidth": 0,
             "ticks": ""
            },
            "type": "contourcarpet"
           }
          ],
          "heatmap": [
           {
            "colorbar": {
             "outlinewidth": 0,
             "ticks": ""
            },
            "colorscale": [
             [
              0,
              "#0d0887"
             ],
             [
              0.1111111111111111,
              "#46039f"
             ],
             [
              0.2222222222222222,
              "#7201a8"
             ],
             [
              0.3333333333333333,
              "#9c179e"
             ],
             [
              0.4444444444444444,
              "#bd3786"
             ],
             [
              0.5555555555555556,
              "#d8576b"
             ],
             [
              0.6666666666666666,
              "#ed7953"
             ],
             [
              0.7777777777777778,
              "#fb9f3a"
             ],
             [
              0.8888888888888888,
              "#fdca26"
             ],
             [
              1,
              "#f0f921"
             ]
            ],
            "type": "heatmap"
           }
          ],
          "heatmapgl": [
           {
            "colorbar": {
             "outlinewidth": 0,
             "ticks": ""
            },
            "colorscale": [
             [
              0,
              "#0d0887"
             ],
             [
              0.1111111111111111,
              "#46039f"
             ],
             [
              0.2222222222222222,
              "#7201a8"
             ],
             [
              0.3333333333333333,
              "#9c179e"
             ],
             [
              0.4444444444444444,
              "#bd3786"
             ],
             [
              0.5555555555555556,
              "#d8576b"
             ],
             [
              0.6666666666666666,
              "#ed7953"
             ],
             [
              0.7777777777777778,
              "#fb9f3a"
             ],
             [
              0.8888888888888888,
              "#fdca26"
             ],
             [
              1,
              "#f0f921"
             ]
            ],
            "type": "heatmapgl"
           }
          ],
          "histogram": [
           {
            "marker": {
             "pattern": {
              "fillmode": "overlay",
              "size": 10,
              "solidity": 0.2
             }
            },
            "type": "histogram"
           }
          ],
          "histogram2d": [
           {
            "colorbar": {
             "outlinewidth": 0,
             "ticks": ""
            },
            "colorscale": [
             [
              0,
              "#0d0887"
             ],
             [
              0.1111111111111111,
              "#46039f"
             ],
             [
              0.2222222222222222,
              "#7201a8"
             ],
             [
              0.3333333333333333,
              "#9c179e"
             ],
             [
              0.4444444444444444,
              "#bd3786"
             ],
             [
              0.5555555555555556,
              "#d8576b"
             ],
             [
              0.6666666666666666,
              "#ed7953"
             ],
             [
              0.7777777777777778,
              "#fb9f3a"
             ],
             [
              0.8888888888888888,
              "#fdca26"
             ],
             [
              1,
              "#f0f921"
             ]
            ],
            "type": "histogram2d"
           }
          ],
          "histogram2dcontour": [
           {
            "colorbar": {
             "outlinewidth": 0,
             "ticks": ""
            },
            "colorscale": [
             [
              0,
              "#0d0887"
             ],
             [
              0.1111111111111111,
              "#46039f"
             ],
             [
              0.2222222222222222,
              "#7201a8"
             ],
             [
              0.3333333333333333,
              "#9c179e"
             ],
             [
              0.4444444444444444,
              "#bd3786"
             ],
             [
              0.5555555555555556,
              "#d8576b"
             ],
             [
              0.6666666666666666,
              "#ed7953"
             ],
             [
              0.7777777777777778,
              "#fb9f3a"
             ],
             [
              0.8888888888888888,
              "#fdca26"
             ],
             [
              1,
              "#f0f921"
             ]
            ],
            "type": "histogram2dcontour"
           }
          ],
          "mesh3d": [
           {
            "colorbar": {
             "outlinewidth": 0,
             "ticks": ""
            },
            "type": "mesh3d"
           }
          ],
          "parcoords": [
           {
            "line": {
             "colorbar": {
              "outlinewidth": 0,
              "ticks": ""
             }
            },
            "type": "parcoords"
           }
          ],
          "pie": [
           {
            "automargin": true,
            "type": "pie"
           }
          ],
          "scatter": [
           {
            "fillpattern": {
             "fillmode": "overlay",
             "size": 10,
             "solidity": 0.2
            },
            "type": "scatter"
           }
          ],
          "scatter3d": [
           {
            "line": {
             "colorbar": {
              "outlinewidth": 0,
              "ticks": ""
             }
            },
            "marker": {
             "colorbar": {
              "outlinewidth": 0,
              "ticks": ""
             }
            },
            "type": "scatter3d"
           }
          ],
          "scattercarpet": [
           {
            "marker": {
             "colorbar": {
              "outlinewidth": 0,
              "ticks": ""
             }
            },
            "type": "scattercarpet"
           }
          ],
          "scattergeo": [
           {
            "marker": {
             "colorbar": {
              "outlinewidth": 0,
              "ticks": ""
             }
            },
            "type": "scattergeo"
           }
          ],
          "scattergl": [
           {
            "marker": {
             "colorbar": {
              "outlinewidth": 0,
              "ticks": ""
             }
            },
            "type": "scattergl"
           }
          ],
          "scattermapbox": [
           {
            "marker": {
             "colorbar": {
              "outlinewidth": 0,
              "ticks": ""
             }
            },
            "type": "scattermapbox"
           }
          ],
          "scatterpolar": [
           {
            "marker": {
             "colorbar": {
              "outlinewidth": 0,
              "ticks": ""
             }
            },
            "type": "scatterpolar"
           }
          ],
          "scatterpolargl": [
           {
            "marker": {
             "colorbar": {
              "outlinewidth": 0,
              "ticks": ""
             }
            },
            "type": "scatterpolargl"
           }
          ],
          "scatterternary": [
           {
            "marker": {
             "colorbar": {
              "outlinewidth": 0,
              "ticks": ""
             }
            },
            "type": "scatterternary"
           }
          ],
          "surface": [
           {
            "colorbar": {
             "outlinewidth": 0,
             "ticks": ""
            },
            "colorscale": [
             [
              0,
              "#0d0887"
             ],
             [
              0.1111111111111111,
              "#46039f"
             ],
             [
              0.2222222222222222,
              "#7201a8"
             ],
             [
              0.3333333333333333,
              "#9c179e"
             ],
             [
              0.4444444444444444,
              "#bd3786"
             ],
             [
              0.5555555555555556,
              "#d8576b"
             ],
             [
              0.6666666666666666,
              "#ed7953"
             ],
             [
              0.7777777777777778,
              "#fb9f3a"
             ],
             [
              0.8888888888888888,
              "#fdca26"
             ],
             [
              1,
              "#f0f921"
             ]
            ],
            "type": "surface"
           }
          ],
          "table": [
           {
            "cells": {
             "fill": {
              "color": "#EBF0F8"
             },
             "line": {
              "color": "white"
             }
            },
            "header": {
             "fill": {
              "color": "#C8D4E3"
             },
             "line": {
              "color": "white"
             }
            },
            "type": "table"
           }
          ]
         },
         "layout": {
          "annotationdefaults": {
           "arrowcolor": "#2a3f5f",
           "arrowhead": 0,
           "arrowwidth": 1
          },
          "autotypenumbers": "strict",
          "coloraxis": {
           "colorbar": {
            "outlinewidth": 0,
            "ticks": ""
           }
          },
          "colorscale": {
           "diverging": [
            [
             0,
             "#8e0152"
            ],
            [
             0.1,
             "#c51b7d"
            ],
            [
             0.2,
             "#de77ae"
            ],
            [
             0.3,
             "#f1b6da"
            ],
            [
             0.4,
             "#fde0ef"
            ],
            [
             0.5,
             "#f7f7f7"
            ],
            [
             0.6,
             "#e6f5d0"
            ],
            [
             0.7,
             "#b8e186"
            ],
            [
             0.8,
             "#7fbc41"
            ],
            [
             0.9,
             "#4d9221"
            ],
            [
             1,
             "#276419"
            ]
           ],
           "sequential": [
            [
             0,
             "#0d0887"
            ],
            [
             0.1111111111111111,
             "#46039f"
            ],
            [
             0.2222222222222222,
             "#7201a8"
            ],
            [
             0.3333333333333333,
             "#9c179e"
            ],
            [
             0.4444444444444444,
             "#bd3786"
            ],
            [
             0.5555555555555556,
             "#d8576b"
            ],
            [
             0.6666666666666666,
             "#ed7953"
            ],
            [
             0.7777777777777778,
             "#fb9f3a"
            ],
            [
             0.8888888888888888,
             "#fdca26"
            ],
            [
             1,
             "#f0f921"
            ]
           ],
           "sequentialminus": [
            [
             0,
             "#0d0887"
            ],
            [
             0.1111111111111111,
             "#46039f"
            ],
            [
             0.2222222222222222,
             "#7201a8"
            ],
            [
             0.3333333333333333,
             "#9c179e"
            ],
            [
             0.4444444444444444,
             "#bd3786"
            ],
            [
             0.5555555555555556,
             "#d8576b"
            ],
            [
             0.6666666666666666,
             "#ed7953"
            ],
            [
             0.7777777777777778,
             "#fb9f3a"
            ],
            [
             0.8888888888888888,
             "#fdca26"
            ],
            [
             1,
             "#f0f921"
            ]
           ]
          },
          "colorway": [
           "#636efa",
           "#EF553B",
           "#00cc96",
           "#ab63fa",
           "#FFA15A",
           "#19d3f3",
           "#FF6692",
           "#B6E880",
           "#FF97FF",
           "#FECB52"
          ],
          "font": {
           "color": "#2a3f5f"
          },
          "geo": {
           "bgcolor": "white",
           "lakecolor": "white",
           "landcolor": "white",
           "showlakes": true,
           "showland": true,
           "subunitcolor": "#C8D4E3"
          },
          "hoverlabel": {
           "align": "left"
          },
          "hovermode": "closest",
          "mapbox": {
           "style": "light"
          },
          "paper_bgcolor": "white",
          "plot_bgcolor": "white",
          "polar": {
           "angularaxis": {
            "gridcolor": "#EBF0F8",
            "linecolor": "#EBF0F8",
            "ticks": ""
           },
           "bgcolor": "white",
           "radialaxis": {
            "gridcolor": "#EBF0F8",
            "linecolor": "#EBF0F8",
            "ticks": ""
           }
          },
          "scene": {
           "xaxis": {
            "backgroundcolor": "white",
            "gridcolor": "#DFE8F3",
            "gridwidth": 2,
            "linecolor": "#EBF0F8",
            "showbackground": true,
            "ticks": "",
            "zerolinecolor": "#EBF0F8"
           },
           "yaxis": {
            "backgroundcolor": "white",
            "gridcolor": "#DFE8F3",
            "gridwidth": 2,
            "linecolor": "#EBF0F8",
            "showbackground": true,
            "ticks": "",
            "zerolinecolor": "#EBF0F8"
           },
           "zaxis": {
            "backgroundcolor": "white",
            "gridcolor": "#DFE8F3",
            "gridwidth": 2,
            "linecolor": "#EBF0F8",
            "showbackground": true,
            "ticks": "",
            "zerolinecolor": "#EBF0F8"
           }
          },
          "shapedefaults": {
           "line": {
            "color": "#2a3f5f"
           }
          },
          "ternary": {
           "aaxis": {
            "gridcolor": "#DFE8F3",
            "linecolor": "#A2B1C6",
            "ticks": ""
           },
           "baxis": {
            "gridcolor": "#DFE8F3",
            "linecolor": "#A2B1C6",
            "ticks": ""
           },
           "bgcolor": "white",
           "caxis": {
            "gridcolor": "#DFE8F3",
            "linecolor": "#A2B1C6",
            "ticks": ""
           }
          },
          "title": {
           "x": 0.05
          },
          "xaxis": {
           "automargin": true,
           "gridcolor": "#EBF0F8",
           "linecolor": "#EBF0F8",
           "ticks": "",
           "title": {
            "standoff": 15
           },
           "zerolinecolor": "#EBF0F8",
           "zerolinewidth": 2
          },
          "yaxis": {
           "automargin": true,
           "gridcolor": "#EBF0F8",
           "linecolor": "#EBF0F8",
           "ticks": "",
           "title": {
            "standoff": 15
           },
           "zerolinecolor": "#EBF0F8",
           "zerolinewidth": 2
          }
         }
        },
        "title": {
         "text": "t-SNE Visualization of K-Means Clusters"
        },
        "xaxis": {
         "anchor": "y",
         "domain": [
          0,
          1
         ],
         "title": {
          "text": "PC1"
         }
        },
        "yaxis": {
         "anchor": "x",
         "domain": [
          0,
          1
         ],
         "title": {
          "text": "PC2"
         }
        }
       }
      }
     },
     "metadata": {},
     "output_type": "display_data"
    }
   ],
   "source": [
    "\n",
    "# Ensure 'cluster' is string type for discrete coloring\n",
    "cluster_data['cluster'] = cluster_data['cluster'].astype(str)\n",
    "\n",
    "# Select numeric features (exclude player_id, 'cluster' is already non-numeric)\n",
    "features = cluster_data.select_dtypes(include=['number']).drop(columns=['player_id'])\n",
    "\n",
    "# Run t-SNE\n",
    "tsne = TSNE(n_components=2, random_state=42, perplexity=30, n_iter=1000)\n",
    "cluster_2d = tsne.fit_transform(features)\n",
    "\n",
    "# Step 4: Add t-SNE coordinates to DataFrame\n",
    "cluster_data['PC1'] = cluster_2d[:, 0]\n",
    "cluster_data['PC2'] = cluster_2d[:, 1]\n",
    "\n",
    "# Step 5: Create interactive scatter plot\n",
    "fig = px.scatter(\n",
    "    cluster_data,\n",
    "    x='PC1',\n",
    "    y='PC2',\n",
    "    color='cluster',\n",
    "    color_discrete_sequence=px.colors.qualitative.Set2,\n",
    "    hover_data=['name', 'player_id'],\n",
    "    title='t-SNE Visualization of K-Means Clusters',\n",
    "    opacity=0.75\n",
    ")\n",
    "\n",
    "# Optional styling tweaks\n",
    "fig.update_traces(marker=dict(size=8, line=dict(width=0.5, color='black')))\n",
    "fig.update_layout(template='plotly_white')\n",
    "\n",
    "# Show plot\n",
    "fig.show()\n",
    "\n",
    "\n"
   ]
  },
  {
   "cell_type": "markdown",
   "metadata": {},
   "source": [
    "## What Now?\n",
    "\n",
    "Now that our clusters have been returned, let's look at them a bit deeper, before even looking at names and what my opinions and views of each player are based on history, 2025 stats aside, I am going to see how their data really compares to one another."
   ]
  },
  {
   "cell_type": "code",
   "execution_count": 33,
   "metadata": {},
   "outputs": [
    {
     "data": {
      "text/html": [
       "<div>\n",
       "<style scoped>\n",
       "    .dataframe tbody tr th:only-of-type {\n",
       "        vertical-align: middle;\n",
       "    }\n",
       "\n",
       "    .dataframe tbody tr th {\n",
       "        vertical-align: top;\n",
       "    }\n",
       "\n",
       "    .dataframe thead th {\n",
       "        text-align: right;\n",
       "    }\n",
       "</style>\n",
       "<table border=\"1\" class=\"dataframe\">\n",
       "  <thead>\n",
       "    <tr style=\"text-align: right;\">\n",
       "      <th></th>\n",
       "      <th>avg_batter_y_position</th>\n",
       "      <th>avg_batter_x_position</th>\n",
       "      <th>avg_foot_sep</th>\n",
       "      <th>avg_stance_angle</th>\n",
       "      <th>avg_intercept_y_vs_batter</th>\n",
       "      <th>avg_intercept_y_vs_plate</th>\n",
       "      <th>attempts</th>\n",
       "      <th>avg_hit_angle</th>\n",
       "      <th>anglesweetspotpercent</th>\n",
       "      <th>max_hit_speed</th>\n",
       "      <th>...</th>\n",
       "      <th>k_percent</th>\n",
       "      <th>bb_percent</th>\n",
       "      <th>batting_avg</th>\n",
       "      <th>slg_percent</th>\n",
       "      <th>on_base_percent</th>\n",
       "      <th>on_base_plus_slg</th>\n",
       "      <th>babip</th>\n",
       "      <th>rbi</th>\n",
       "      <th>total_distance</th>\n",
       "      <th>cluster</th>\n",
       "    </tr>\n",
       "    <tr>\n",
       "      <th>cluster</th>\n",
       "      <th></th>\n",
       "      <th></th>\n",
       "      <th></th>\n",
       "      <th></th>\n",
       "      <th></th>\n",
       "      <th></th>\n",
       "      <th></th>\n",
       "      <th></th>\n",
       "      <th></th>\n",
       "      <th></th>\n",
       "      <th></th>\n",
       "      <th></th>\n",
       "      <th></th>\n",
       "      <th></th>\n",
       "      <th></th>\n",
       "      <th></th>\n",
       "      <th></th>\n",
       "      <th></th>\n",
       "      <th></th>\n",
       "      <th></th>\n",
       "      <th></th>\n",
       "    </tr>\n",
       "  </thead>\n",
       "  <tbody>\n",
       "    <tr>\n",
       "      <th>0</th>\n",
       "      <td>29.237199</td>\n",
       "      <td>29.704848</td>\n",
       "      <td>29.306866</td>\n",
       "      <td>-3.798799</td>\n",
       "      <td>30.954862</td>\n",
       "      <td>1.775532</td>\n",
       "      <td>60.357143</td>\n",
       "      <td>13.185714</td>\n",
       "      <td>34.875000</td>\n",
       "      <td>110.621429</td>\n",
       "      <td>...</td>\n",
       "      <td>21.503571</td>\n",
       "      <td>9.096429</td>\n",
       "      <td>0.255036</td>\n",
       "      <td>0.408250</td>\n",
       "      <td>0.328393</td>\n",
       "      <td>0.736643</td>\n",
       "      <td>0.301321</td>\n",
       "      <td>10.714286</td>\n",
       "      <td>41.753624</td>\n",
       "      <td>0.0</td>\n",
       "    </tr>\n",
       "    <tr>\n",
       "      <th>1</th>\n",
       "      <td>28.749892</td>\n",
       "      <td>27.737155</td>\n",
       "      <td>30.870425</td>\n",
       "      <td>-10.813841</td>\n",
       "      <td>30.832984</td>\n",
       "      <td>2.101165</td>\n",
       "      <td>59.653333</td>\n",
       "      <td>13.184000</td>\n",
       "      <td>34.513333</td>\n",
       "      <td>110.172000</td>\n",
       "      <td>...</td>\n",
       "      <td>21.353333</td>\n",
       "      <td>10.445333</td>\n",
       "      <td>0.245947</td>\n",
       "      <td>0.419480</td>\n",
       "      <td>0.330040</td>\n",
       "      <td>0.749520</td>\n",
       "      <td>0.284493</td>\n",
       "      <td>10.320000</td>\n",
       "      <td>40.087507</td>\n",
       "      <td>1.0</td>\n",
       "    </tr>\n",
       "    <tr>\n",
       "      <th>2</th>\n",
       "      <td>29.681284</td>\n",
       "      <td>27.362187</td>\n",
       "      <td>27.428817</td>\n",
       "      <td>-23.878509</td>\n",
       "      <td>31.174546</td>\n",
       "      <td>1.530036</td>\n",
       "      <td>59.058824</td>\n",
       "      <td>13.700000</td>\n",
       "      <td>33.141176</td>\n",
       "      <td>110.094118</td>\n",
       "      <td>...</td>\n",
       "      <td>22.073529</td>\n",
       "      <td>8.902941</td>\n",
       "      <td>0.228059</td>\n",
       "      <td>0.383588</td>\n",
       "      <td>0.302324</td>\n",
       "      <td>0.685912</td>\n",
       "      <td>0.263971</td>\n",
       "      <td>9.588235</td>\n",
       "      <td>40.478143</td>\n",
       "      <td>2.0</td>\n",
       "    </tr>\n",
       "    <tr>\n",
       "      <th>3</th>\n",
       "      <td>19.949308</td>\n",
       "      <td>25.131449</td>\n",
       "      <td>28.120419</td>\n",
       "      <td>-17.918583</td>\n",
       "      <td>29.122314</td>\n",
       "      <td>9.173006</td>\n",
       "      <td>63.625000</td>\n",
       "      <td>12.418750</td>\n",
       "      <td>33.337500</td>\n",
       "      <td>107.300000</td>\n",
       "      <td>...</td>\n",
       "      <td>20.462500</td>\n",
       "      <td>10.162500</td>\n",
       "      <td>0.249812</td>\n",
       "      <td>0.399938</td>\n",
       "      <td>0.330062</td>\n",
       "      <td>0.730000</td>\n",
       "      <td>0.290563</td>\n",
       "      <td>10.875000</td>\n",
       "      <td>32.318640</td>\n",
       "      <td>3.0</td>\n",
       "    </tr>\n",
       "    <tr>\n",
       "      <th>4</th>\n",
       "      <td>25.407622</td>\n",
       "      <td>27.530065</td>\n",
       "      <td>32.269279</td>\n",
       "      <td>-5.599034</td>\n",
       "      <td>30.502221</td>\n",
       "      <td>5.142136</td>\n",
       "      <td>62.000000</td>\n",
       "      <td>13.834211</td>\n",
       "      <td>34.357895</td>\n",
       "      <td>109.852632</td>\n",
       "      <td>...</td>\n",
       "      <td>20.505263</td>\n",
       "      <td>8.265789</td>\n",
       "      <td>0.237237</td>\n",
       "      <td>0.403737</td>\n",
       "      <td>0.305868</td>\n",
       "      <td>0.709605</td>\n",
       "      <td>0.270368</td>\n",
       "      <td>9.842105</td>\n",
       "      <td>37.579815</td>\n",
       "      <td>4.0</td>\n",
       "    </tr>\n",
       "  </tbody>\n",
       "</table>\n",
       "<p>5 rows × 38 columns</p>\n",
       "</div>"
      ],
      "text/plain": [
       "         avg_batter_y_position  avg_batter_x_position  avg_foot_sep  \\\n",
       "cluster                                                               \n",
       "0                    29.237199              29.704848     29.306866   \n",
       "1                    28.749892              27.737155     30.870425   \n",
       "2                    29.681284              27.362187     27.428817   \n",
       "3                    19.949308              25.131449     28.120419   \n",
       "4                    25.407622              27.530065     32.269279   \n",
       "\n",
       "         avg_stance_angle  avg_intercept_y_vs_batter  \\\n",
       "cluster                                                \n",
       "0               -3.798799                  30.954862   \n",
       "1              -10.813841                  30.832984   \n",
       "2              -23.878509                  31.174546   \n",
       "3              -17.918583                  29.122314   \n",
       "4               -5.599034                  30.502221   \n",
       "\n",
       "         avg_intercept_y_vs_plate   attempts  avg_hit_angle  \\\n",
       "cluster                                                       \n",
       "0                        1.775532  60.357143      13.185714   \n",
       "1                        2.101165  59.653333      13.184000   \n",
       "2                        1.530036  59.058824      13.700000   \n",
       "3                        9.173006  63.625000      12.418750   \n",
       "4                        5.142136  62.000000      13.834211   \n",
       "\n",
       "         anglesweetspotpercent  max_hit_speed  ...  k_percent  bb_percent  \\\n",
       "cluster                                        ...                          \n",
       "0                    34.875000     110.621429  ...  21.503571    9.096429   \n",
       "1                    34.513333     110.172000  ...  21.353333   10.445333   \n",
       "2                    33.141176     110.094118  ...  22.073529    8.902941   \n",
       "3                    33.337500     107.300000  ...  20.462500   10.162500   \n",
       "4                    34.357895     109.852632  ...  20.505263    8.265789   \n",
       "\n",
       "         batting_avg  slg_percent  on_base_percent  on_base_plus_slg  \\\n",
       "cluster                                                                \n",
       "0           0.255036     0.408250         0.328393          0.736643   \n",
       "1           0.245947     0.419480         0.330040          0.749520   \n",
       "2           0.228059     0.383588         0.302324          0.685912   \n",
       "3           0.249812     0.399938         0.330062          0.730000   \n",
       "4           0.237237     0.403737         0.305868          0.709605   \n",
       "\n",
       "            babip        rbi  total_distance  cluster  \n",
       "cluster                                                \n",
       "0        0.301321  10.714286       41.753624      0.0  \n",
       "1        0.284493  10.320000       40.087507      1.0  \n",
       "2        0.263971   9.588235       40.478143      2.0  \n",
       "3        0.290563  10.875000       32.318640      3.0  \n",
       "4        0.270368   9.842105       37.579815      4.0  \n",
       "\n",
       "[5 rows x 38 columns]"
      ]
     },
     "execution_count": 33,
     "metadata": {},
     "output_type": "execute_result"
    }
   ],
   "source": [
    "## Learning about the statistics of each cluster\n",
    "numeric_cols = data.select_dtypes(include='number').columns.drop(['id', 'player_id', 'Unnamed: 0'])\n",
    "grouped_data = data[numeric_cols].groupby(data['cluster']).mean()\n",
    "grouped_data.head()"
   ]
  },
  {
   "cell_type": "code",
   "execution_count": 37,
   "metadata": {},
   "outputs": [
    {
     "data": {
      "text/html": [
       "<div>\n",
       "<style scoped>\n",
       "    .dataframe tbody tr th:only-of-type {\n",
       "        vertical-align: middle;\n",
       "    }\n",
       "\n",
       "    .dataframe tbody tr th {\n",
       "        vertical-align: top;\n",
       "    }\n",
       "\n",
       "    .dataframe thead th {\n",
       "        text-align: right;\n",
       "    }\n",
       "</style>\n",
       "<table border=\"1\" class=\"dataframe\">\n",
       "  <thead>\n",
       "    <tr style=\"text-align: right;\">\n",
       "      <th></th>\n",
       "      <th>batting_avg</th>\n",
       "      <th>slg_percent</th>\n",
       "      <th>on_base_percent</th>\n",
       "      <th>on_base_plus_slg</th>\n",
       "      <th>k_percent</th>\n",
       "      <th>bb_percent</th>\n",
       "      <th>avg_hr_distance</th>\n",
       "      <th>ev50</th>\n",
       "      <th>total_distance</th>\n",
       "    </tr>\n",
       "    <tr>\n",
       "      <th>cluster</th>\n",
       "      <th></th>\n",
       "      <th></th>\n",
       "      <th></th>\n",
       "      <th></th>\n",
       "      <th></th>\n",
       "      <th></th>\n",
       "      <th></th>\n",
       "      <th></th>\n",
       "      <th></th>\n",
       "    </tr>\n",
       "  </thead>\n",
       "  <tbody>\n",
       "    <tr>\n",
       "      <th>0</th>\n",
       "      <td>0.255036</td>\n",
       "      <td>0.408250</td>\n",
       "      <td>0.328393</td>\n",
       "      <td>0.736643</td>\n",
       "      <td>21.503571</td>\n",
       "      <td>9.096429</td>\n",
       "      <td>364.892857</td>\n",
       "      <td>100.792857</td>\n",
       "      <td>41.753624</td>\n",
       "    </tr>\n",
       "    <tr>\n",
       "      <th>1</th>\n",
       "      <td>0.245947</td>\n",
       "      <td>0.419480</td>\n",
       "      <td>0.330040</td>\n",
       "      <td>0.749520</td>\n",
       "      <td>21.353333</td>\n",
       "      <td>10.445333</td>\n",
       "      <td>366.813333</td>\n",
       "      <td>100.669333</td>\n",
       "      <td>40.087507</td>\n",
       "    </tr>\n",
       "    <tr>\n",
       "      <th>2</th>\n",
       "      <td>0.228059</td>\n",
       "      <td>0.383588</td>\n",
       "      <td>0.302324</td>\n",
       "      <td>0.685912</td>\n",
       "      <td>22.073529</td>\n",
       "      <td>8.902941</td>\n",
       "      <td>371.058824</td>\n",
       "      <td>100.735294</td>\n",
       "      <td>40.478143</td>\n",
       "    </tr>\n",
       "    <tr>\n",
       "      <th>3</th>\n",
       "      <td>0.249812</td>\n",
       "      <td>0.399938</td>\n",
       "      <td>0.330062</td>\n",
       "      <td>0.730000</td>\n",
       "      <td>20.462500</td>\n",
       "      <td>10.162500</td>\n",
       "      <td>344.187500</td>\n",
       "      <td>98.587500</td>\n",
       "      <td>32.318640</td>\n",
       "    </tr>\n",
       "    <tr>\n",
       "      <th>4</th>\n",
       "      <td>0.237237</td>\n",
       "      <td>0.403737</td>\n",
       "      <td>0.305868</td>\n",
       "      <td>0.709605</td>\n",
       "      <td>20.505263</td>\n",
       "      <td>8.265789</td>\n",
       "      <td>331.973684</td>\n",
       "      <td>100.418421</td>\n",
       "      <td>37.579815</td>\n",
       "    </tr>\n",
       "  </tbody>\n",
       "</table>\n",
       "</div>"
      ],
      "text/plain": [
       "         batting_avg  slg_percent  on_base_percent  on_base_plus_slg  \\\n",
       "cluster                                                                \n",
       "0           0.255036     0.408250         0.328393          0.736643   \n",
       "1           0.245947     0.419480         0.330040          0.749520   \n",
       "2           0.228059     0.383588         0.302324          0.685912   \n",
       "3           0.249812     0.399938         0.330062          0.730000   \n",
       "4           0.237237     0.403737         0.305868          0.709605   \n",
       "\n",
       "         k_percent  bb_percent  avg_hr_distance        ev50  total_distance  \n",
       "cluster                                                                      \n",
       "0        21.503571    9.096429       364.892857  100.792857       41.753624  \n",
       "1        21.353333   10.445333       366.813333  100.669333       40.087507  \n",
       "2        22.073529    8.902941       371.058824  100.735294       40.478143  \n",
       "3        20.462500   10.162500       344.187500   98.587500       32.318640  \n",
       "4        20.505263    8.265789       331.973684  100.418421       37.579815  "
      ]
     },
     "execution_count": 37,
     "metadata": {},
     "output_type": "execute_result"
    }
   ],
   "source": [
    "## Specifically interested first in the basic statistics\n",
    "grouped_data[['batting_avg', 'slg_percent', 'on_base_percent', 'on_base_plus_slg', 'k_percent', 'bb_percent', 'avg_hr_distance', 'ev50', 'total_distance']]"
   ]
  },
  {
   "cell_type": "code",
   "execution_count": 40,
   "metadata": {},
   "outputs": [
    {
     "data": {
      "text/html": [
       "<div>\n",
       "<style scoped>\n",
       "    .dataframe tbody tr th:only-of-type {\n",
       "        vertical-align: middle;\n",
       "    }\n",
       "\n",
       "    .dataframe tbody tr th {\n",
       "        vertical-align: top;\n",
       "    }\n",
       "\n",
       "    .dataframe thead th {\n",
       "        text-align: right;\n",
       "    }\n",
       "</style>\n",
       "<table border=\"1\" class=\"dataframe\">\n",
       "  <thead>\n",
       "    <tr style=\"text-align: right;\">\n",
       "      <th></th>\n",
       "      <th>name</th>\n",
       "    </tr>\n",
       "  </thead>\n",
       "  <tbody>\n",
       "    <tr>\n",
       "      <th>5</th>\n",
       "      <td>Riley, Austin</td>\n",
       "    </tr>\n",
       "    <tr>\n",
       "      <th>9</th>\n",
       "      <td>Castellanos, Nick</td>\n",
       "    </tr>\n",
       "    <tr>\n",
       "      <th>16</th>\n",
       "      <td>Adames, Willy</td>\n",
       "    </tr>\n",
       "    <tr>\n",
       "      <th>25</th>\n",
       "      <td>Judge, Aaron</td>\n",
       "    </tr>\n",
       "    <tr>\n",
       "      <th>45</th>\n",
       "      <td>Vargas, Miguel</td>\n",
       "    </tr>\n",
       "    <tr>\n",
       "      <th>47</th>\n",
       "      <td>Vaughn, Andrew</td>\n",
       "    </tr>\n",
       "    <tr>\n",
       "      <th>54</th>\n",
       "      <td>Chapman, Matt</td>\n",
       "    </tr>\n",
       "    <tr>\n",
       "      <th>60</th>\n",
       "      <td>Volpe, Anthony</td>\n",
       "    </tr>\n",
       "    <tr>\n",
       "      <th>64</th>\n",
       "      <td>Contreras, William</td>\n",
       "    </tr>\n",
       "    <tr>\n",
       "      <th>65</th>\n",
       "      <td>Guerrero Jr., Vladimir</td>\n",
       "    </tr>\n",
       "    <tr>\n",
       "      <th>71</th>\n",
       "      <td>Campbell, Kristian</td>\n",
       "    </tr>\n",
       "    <tr>\n",
       "      <th>72</th>\n",
       "      <td>Goldschmidt, Paul</td>\n",
       "    </tr>\n",
       "    <tr>\n",
       "      <th>75</th>\n",
       "      <td>Hernández, Teoscar</td>\n",
       "    </tr>\n",
       "    <tr>\n",
       "      <th>84</th>\n",
       "      <td>Soler, Jorge</td>\n",
       "    </tr>\n",
       "    <tr>\n",
       "      <th>86</th>\n",
       "      <td>Sosa, Lenyn</td>\n",
       "    </tr>\n",
       "    <tr>\n",
       "      <th>92</th>\n",
       "      <td>Arenado, Nolan</td>\n",
       "    </tr>\n",
       "    <tr>\n",
       "      <th>102</th>\n",
       "      <td>Arias, Gabriel</td>\n",
       "    </tr>\n",
       "    <tr>\n",
       "      <th>114</th>\n",
       "      <td>Hoskins, Rhys</td>\n",
       "    </tr>\n",
       "    <tr>\n",
       "      <th>120</th>\n",
       "      <td>Lopez, Otto</td>\n",
       "    </tr>\n",
       "    <tr>\n",
       "      <th>130</th>\n",
       "      <td>Garcia, Maikel</td>\n",
       "    </tr>\n",
       "    <tr>\n",
       "      <th>134</th>\n",
       "      <td>Andujar, Miguel</td>\n",
       "    </tr>\n",
       "    <tr>\n",
       "      <th>137</th>\n",
       "      <td>Burger, Jake</td>\n",
       "    </tr>\n",
       "    <tr>\n",
       "      <th>143</th>\n",
       "      <td>Pham, Tommy</td>\n",
       "    </tr>\n",
       "    <tr>\n",
       "      <th>174</th>\n",
       "      <td>Happ, Ian</td>\n",
       "    </tr>\n",
       "    <tr>\n",
       "      <th>175</th>\n",
       "      <td>Reynolds, Bryan</td>\n",
       "    </tr>\n",
       "    <tr>\n",
       "      <th>179</th>\n",
       "      <td>Ruiz, Keibert</td>\n",
       "    </tr>\n",
       "    <tr>\n",
       "      <th>183</th>\n",
       "      <td>Edman, Tommy</td>\n",
       "    </tr>\n",
       "    <tr>\n",
       "      <th>188</th>\n",
       "      <td>Castro, Willi</td>\n",
       "    </tr>\n",
       "  </tbody>\n",
       "</table>\n",
       "</div>"
      ],
      "text/plain": [
       "                       name\n",
       "5             Riley, Austin\n",
       "9         Castellanos, Nick\n",
       "16            Adames, Willy\n",
       "25             Judge, Aaron\n",
       "45           Vargas, Miguel\n",
       "47           Vaughn, Andrew\n",
       "54            Chapman, Matt\n",
       "60           Volpe, Anthony\n",
       "64       Contreras, William\n",
       "65   Guerrero Jr., Vladimir\n",
       "71       Campbell, Kristian\n",
       "72        Goldschmidt, Paul\n",
       "75       Hernández, Teoscar\n",
       "84             Soler, Jorge\n",
       "86              Sosa, Lenyn\n",
       "92           Arenado, Nolan\n",
       "102          Arias, Gabriel\n",
       "114           Hoskins, Rhys\n",
       "120             Lopez, Otto\n",
       "130          Garcia, Maikel\n",
       "134         Andujar, Miguel\n",
       "137            Burger, Jake\n",
       "143             Pham, Tommy\n",
       "174               Happ, Ian\n",
       "175         Reynolds, Bryan\n",
       "179           Ruiz, Keibert\n",
       "183            Edman, Tommy\n",
       "188           Castro, Willi"
      ]
     },
     "execution_count": 40,
     "metadata": {},
     "output_type": "execute_result"
    }
   ],
   "source": [
    "pd.DataFrame(data[data['cluster'] == 0]['name'])\n"
   ]
  },
  {
   "cell_type": "code",
   "execution_count": 41,
   "metadata": {},
   "outputs": [
    {
     "data": {
      "text/html": [
       "<div>\n",
       "<style scoped>\n",
       "    .dataframe tbody tr th:only-of-type {\n",
       "        vertical-align: middle;\n",
       "    }\n",
       "\n",
       "    .dataframe tbody tr th {\n",
       "        vertical-align: top;\n",
       "    }\n",
       "\n",
       "    .dataframe thead th {\n",
       "        text-align: right;\n",
       "    }\n",
       "</style>\n",
       "<table border=\"1\" class=\"dataframe\">\n",
       "  <thead>\n",
       "    <tr style=\"text-align: right;\">\n",
       "      <th></th>\n",
       "      <th>name</th>\n",
       "    </tr>\n",
       "  </thead>\n",
       "  <tbody>\n",
       "    <tr>\n",
       "      <th>8</th>\n",
       "      <td>Tucker, Kyle</td>\n",
       "    </tr>\n",
       "    <tr>\n",
       "      <th>10</th>\n",
       "      <td>Turang, Brice</td>\n",
       "    </tr>\n",
       "    <tr>\n",
       "      <th>12</th>\n",
       "      <td>Greene, Riley</td>\n",
       "    </tr>\n",
       "    <tr>\n",
       "      <th>15</th>\n",
       "      <td>Crow-Armstrong, Pete</td>\n",
       "    </tr>\n",
       "    <tr>\n",
       "      <th>17</th>\n",
       "      <td>Giménez, Andrés</td>\n",
       "    </tr>\n",
       "    <tr>\n",
       "      <th>...</th>\n",
       "      <td>...</td>\n",
       "    </tr>\n",
       "    <tr>\n",
       "      <th>165</th>\n",
       "      <td>De La Cruz, Elly</td>\n",
       "    </tr>\n",
       "    <tr>\n",
       "      <th>166</th>\n",
       "      <td>Toglia, Michael</td>\n",
       "    </tr>\n",
       "    <tr>\n",
       "      <th>167</th>\n",
       "      <td>Edman, Tommy</td>\n",
       "    </tr>\n",
       "    <tr>\n",
       "      <th>168</th>\n",
       "      <td>Rutschman, Adley</td>\n",
       "    </tr>\n",
       "    <tr>\n",
       "      <th>169</th>\n",
       "      <td>Ruiz, Keibert</td>\n",
       "    </tr>\n",
       "  </tbody>\n",
       "</table>\n",
       "<p>75 rows × 1 columns</p>\n",
       "</div>"
      ],
      "text/plain": [
       "                     name\n",
       "8            Tucker, Kyle\n",
       "10          Turang, Brice\n",
       "12          Greene, Riley\n",
       "15   Crow-Armstrong, Pete\n",
       "17        Giménez, Andrés\n",
       "..                    ...\n",
       "165      De La Cruz, Elly\n",
       "166       Toglia, Michael\n",
       "167          Edman, Tommy\n",
       "168      Rutschman, Adley\n",
       "169         Ruiz, Keibert\n",
       "\n",
       "[75 rows x 1 columns]"
      ]
     },
     "execution_count": 41,
     "metadata": {},
     "output_type": "execute_result"
    }
   ],
   "source": [
    "pd.DataFrame(data[data['cluster'] == 1]['name'])\n"
   ]
  },
  {
   "cell_type": "code",
   "execution_count": 42,
   "metadata": {},
   "outputs": [
    {
     "data": {
      "text/html": [
       "<div>\n",
       "<style scoped>\n",
       "    .dataframe tbody tr th:only-of-type {\n",
       "        vertical-align: middle;\n",
       "    }\n",
       "\n",
       "    .dataframe tbody tr th {\n",
       "        vertical-align: top;\n",
       "    }\n",
       "\n",
       "    .dataframe thead th {\n",
       "        text-align: right;\n",
       "    }\n",
       "</style>\n",
       "<table border=\"1\" class=\"dataframe\">\n",
       "  <thead>\n",
       "    <tr style=\"text-align: right;\">\n",
       "      <th></th>\n",
       "      <th>name</th>\n",
       "    </tr>\n",
       "  </thead>\n",
       "  <tbody>\n",
       "    <tr>\n",
       "      <th>7</th>\n",
       "      <td>Machado, Manny</td>\n",
       "    </tr>\n",
       "    <tr>\n",
       "      <th>11</th>\n",
       "      <td>Rooker, Brent</td>\n",
       "    </tr>\n",
       "    <tr>\n",
       "      <th>13</th>\n",
       "      <td>Torkelson, Spencer</td>\n",
       "    </tr>\n",
       "    <tr>\n",
       "      <th>14</th>\n",
       "      <td>Perez, Salvador</td>\n",
       "    </tr>\n",
       "    <tr>\n",
       "      <th>26</th>\n",
       "      <td>Swanson, Dansby</td>\n",
       "    </tr>\n",
       "    <tr>\n",
       "      <th>28</th>\n",
       "      <td>Tatis Jr., Fernando</td>\n",
       "    </tr>\n",
       "    <tr>\n",
       "      <th>29</th>\n",
       "      <td>Walker, Jordan</td>\n",
       "    </tr>\n",
       "    <tr>\n",
       "      <th>31</th>\n",
       "      <td>Walker, Christian</td>\n",
       "    </tr>\n",
       "    <tr>\n",
       "      <th>32</th>\n",
       "      <td>Paredes, Isaac</td>\n",
       "    </tr>\n",
       "    <tr>\n",
       "      <th>37</th>\n",
       "      <td>Trout, Mike</td>\n",
       "    </tr>\n",
       "    <tr>\n",
       "      <th>39</th>\n",
       "      <td>France, Ty</td>\n",
       "    </tr>\n",
       "    <tr>\n",
       "      <th>44</th>\n",
       "      <td>Díaz, Yandy</td>\n",
       "    </tr>\n",
       "    <tr>\n",
       "      <th>49</th>\n",
       "      <td>Caminero, Junior</td>\n",
       "    </tr>\n",
       "    <tr>\n",
       "      <th>50</th>\n",
       "      <td>Rafaela, Ceddanne</td>\n",
       "    </tr>\n",
       "    <tr>\n",
       "      <th>56</th>\n",
       "      <td>Pages, Andy</td>\n",
       "    </tr>\n",
       "    <tr>\n",
       "      <th>62</th>\n",
       "      <td>Peña, Jeremy</td>\n",
       "    </tr>\n",
       "    <tr>\n",
       "      <th>63</th>\n",
       "      <td>Gurriel Jr., Lourdes</td>\n",
       "    </tr>\n",
       "    <tr>\n",
       "      <th>76</th>\n",
       "      <td>Robert Jr., Luis</td>\n",
       "    </tr>\n",
       "    <tr>\n",
       "      <th>89</th>\n",
       "      <td>Goodman, Hunter</td>\n",
       "    </tr>\n",
       "    <tr>\n",
       "      <th>95</th>\n",
       "      <td>Realmuto, J.T.</td>\n",
       "    </tr>\n",
       "    <tr>\n",
       "      <th>100</th>\n",
       "      <td>Ward, Taylor</td>\n",
       "    </tr>\n",
       "    <tr>\n",
       "      <th>109</th>\n",
       "      <td>Ortiz, Joey</td>\n",
       "    </tr>\n",
       "    <tr>\n",
       "      <th>131</th>\n",
       "      <td>Hayes, Ke'Bryan</td>\n",
       "    </tr>\n",
       "    <tr>\n",
       "      <th>135</th>\n",
       "      <td>Wilson, Jacob</td>\n",
       "    </tr>\n",
       "    <tr>\n",
       "      <th>140</th>\n",
       "      <td>Muncy, Max</td>\n",
       "    </tr>\n",
       "    <tr>\n",
       "      <th>156</th>\n",
       "      <td>Ozuna, Marcell</td>\n",
       "    </tr>\n",
       "    <tr>\n",
       "      <th>157</th>\n",
       "      <td>Kiner-Falefa, Isiah</td>\n",
       "    </tr>\n",
       "    <tr>\n",
       "      <th>158</th>\n",
       "      <td>Crews, Dylan</td>\n",
       "    </tr>\n",
       "    <tr>\n",
       "      <th>164</th>\n",
       "      <td>Smith, Will</td>\n",
       "    </tr>\n",
       "    <tr>\n",
       "      <th>172</th>\n",
       "      <td>Domínguez, Jasson</td>\n",
       "    </tr>\n",
       "    <tr>\n",
       "      <th>177</th>\n",
       "      <td>De La Cruz, Elly</td>\n",
       "    </tr>\n",
       "    <tr>\n",
       "      <th>180</th>\n",
       "      <td>Santana, Carlos</td>\n",
       "    </tr>\n",
       "    <tr>\n",
       "      <th>181</th>\n",
       "      <td>Albies, Ozzie</td>\n",
       "    </tr>\n",
       "    <tr>\n",
       "      <th>184</th>\n",
       "      <td>Bell, Josh</td>\n",
       "    </tr>\n",
       "  </tbody>\n",
       "</table>\n",
       "</div>"
      ],
      "text/plain": [
       "                     name\n",
       "7          Machado, Manny\n",
       "11          Rooker, Brent\n",
       "13     Torkelson, Spencer\n",
       "14        Perez, Salvador\n",
       "26        Swanson, Dansby\n",
       "28    Tatis Jr., Fernando\n",
       "29         Walker, Jordan\n",
       "31      Walker, Christian\n",
       "32         Paredes, Isaac\n",
       "37            Trout, Mike\n",
       "39             France, Ty\n",
       "44            Díaz, Yandy\n",
       "49       Caminero, Junior\n",
       "50      Rafaela, Ceddanne\n",
       "56            Pages, Andy\n",
       "62           Peña, Jeremy\n",
       "63   Gurriel Jr., Lourdes\n",
       "76       Robert Jr., Luis\n",
       "89        Goodman, Hunter\n",
       "95         Realmuto, J.T.\n",
       "100          Ward, Taylor\n",
       "109           Ortiz, Joey\n",
       "131       Hayes, Ke'Bryan\n",
       "135         Wilson, Jacob\n",
       "140            Muncy, Max\n",
       "156        Ozuna, Marcell\n",
       "157   Kiner-Falefa, Isiah\n",
       "158          Crews, Dylan\n",
       "164           Smith, Will\n",
       "172     Domínguez, Jasson\n",
       "177      De La Cruz, Elly\n",
       "180       Santana, Carlos\n",
       "181         Albies, Ozzie\n",
       "184            Bell, Josh"
      ]
     },
     "execution_count": 42,
     "metadata": {},
     "output_type": "execute_result"
    }
   ],
   "source": [
    "pd.DataFrame(data[data['cluster'] == 2]['name'])\n"
   ]
  },
  {
   "cell_type": "code",
   "execution_count": 43,
   "metadata": {},
   "outputs": [
    {
     "data": {
      "text/html": [
       "<div>\n",
       "<style scoped>\n",
       "    .dataframe tbody tr th:only-of-type {\n",
       "        vertical-align: middle;\n",
       "    }\n",
       "\n",
       "    .dataframe tbody tr th {\n",
       "        vertical-align: top;\n",
       "    }\n",
       "\n",
       "    .dataframe thead th {\n",
       "        text-align: right;\n",
       "    }\n",
       "</style>\n",
       "<table border=\"1\" class=\"dataframe\">\n",
       "  <thead>\n",
       "    <tr style=\"text-align: right;\">\n",
       "      <th></th>\n",
       "      <th>name</th>\n",
       "    </tr>\n",
       "  </thead>\n",
       "  <tbody>\n",
       "    <tr>\n",
       "      <th>0</th>\n",
       "      <td>Devers, Rafael</td>\n",
       "    </tr>\n",
       "    <tr>\n",
       "      <th>27</th>\n",
       "      <td>Arozarena, Randy</td>\n",
       "    </tr>\n",
       "    <tr>\n",
       "      <th>35</th>\n",
       "      <td>Suárez, Eugenio</td>\n",
       "    </tr>\n",
       "    <tr>\n",
       "      <th>42</th>\n",
       "      <td>Lee, Jung Hoo</td>\n",
       "    </tr>\n",
       "    <tr>\n",
       "      <th>52</th>\n",
       "      <td>Santander, Anthony</td>\n",
       "    </tr>\n",
       "    <tr>\n",
       "      <th>53</th>\n",
       "      <td>Schwarber, Kyle</td>\n",
       "    </tr>\n",
       "    <tr>\n",
       "      <th>58</th>\n",
       "      <td>Altuve, Jose</td>\n",
       "    </tr>\n",
       "    <tr>\n",
       "      <th>112</th>\n",
       "      <td>Scott II, Victor</td>\n",
       "    </tr>\n",
       "    <tr>\n",
       "      <th>123</th>\n",
       "      <td>Rengifo, Luis</td>\n",
       "    </tr>\n",
       "    <tr>\n",
       "      <th>147</th>\n",
       "      <td>Frazier, Adam</td>\n",
       "    </tr>\n",
       "    <tr>\n",
       "      <th>148</th>\n",
       "      <td>Kwan, Steven</td>\n",
       "    </tr>\n",
       "    <tr>\n",
       "      <th>160</th>\n",
       "      <td>Perdomo, Geraldo</td>\n",
       "    </tr>\n",
       "    <tr>\n",
       "      <th>161</th>\n",
       "      <td>Edwards, Xavier</td>\n",
       "    </tr>\n",
       "    <tr>\n",
       "      <th>170</th>\n",
       "      <td>Domínguez, Jasson</td>\n",
       "    </tr>\n",
       "    <tr>\n",
       "      <th>171</th>\n",
       "      <td>Edwards, Xavier</td>\n",
       "    </tr>\n",
       "    <tr>\n",
       "      <th>190</th>\n",
       "      <td>Rengifo, Luis</td>\n",
       "    </tr>\n",
       "  </tbody>\n",
       "</table>\n",
       "</div>"
      ],
      "text/plain": [
       "                   name\n",
       "0        Devers, Rafael\n",
       "27     Arozarena, Randy\n",
       "35      Suárez, Eugenio\n",
       "42        Lee, Jung Hoo\n",
       "52   Santander, Anthony\n",
       "53      Schwarber, Kyle\n",
       "58         Altuve, Jose\n",
       "112    Scott II, Victor\n",
       "123       Rengifo, Luis\n",
       "147       Frazier, Adam\n",
       "148        Kwan, Steven\n",
       "160    Perdomo, Geraldo\n",
       "161     Edwards, Xavier\n",
       "170   Domínguez, Jasson\n",
       "171     Edwards, Xavier\n",
       "190       Rengifo, Luis"
      ]
     },
     "execution_count": 43,
     "metadata": {},
     "output_type": "execute_result"
    }
   ],
   "source": [
    "pd.DataFrame(data[data['cluster'] == 3]['name'])\n"
   ]
  },
  {
   "cell_type": "code",
   "execution_count": 44,
   "metadata": {},
   "outputs": [
    {
     "data": {
      "text/html": [
       "<div>\n",
       "<style scoped>\n",
       "    .dataframe tbody tr th:only-of-type {\n",
       "        vertical-align: middle;\n",
       "    }\n",
       "\n",
       "    .dataframe tbody tr th {\n",
       "        vertical-align: top;\n",
       "    }\n",
       "\n",
       "    .dataframe thead th {\n",
       "        text-align: right;\n",
       "    }\n",
       "</style>\n",
       "<table border=\"1\" class=\"dataframe\">\n",
       "  <thead>\n",
       "    <tr style=\"text-align: right;\">\n",
       "      <th></th>\n",
       "      <th>name</th>\n",
       "    </tr>\n",
       "  </thead>\n",
       "  <tbody>\n",
       "    <tr>\n",
       "      <th>1</th>\n",
       "      <td>Ramos, Heliot</td>\n",
       "    </tr>\n",
       "    <tr>\n",
       "      <th>2</th>\n",
       "      <td>Story, Trevor</td>\n",
       "    </tr>\n",
       "    <tr>\n",
       "      <th>3</th>\n",
       "      <td>Chourio, Jackson</td>\n",
       "    </tr>\n",
       "    <tr>\n",
       "      <th>4</th>\n",
       "      <td>Bichette, Bo</td>\n",
       "    </tr>\n",
       "    <tr>\n",
       "      <th>6</th>\n",
       "      <td>Rodríguez, Julio</td>\n",
       "    </tr>\n",
       "    <tr>\n",
       "      <th>18</th>\n",
       "      <td>Witt Jr., Bobby</td>\n",
       "    </tr>\n",
       "    <tr>\n",
       "      <th>24</th>\n",
       "      <td>Contreras, Willson</td>\n",
       "    </tr>\n",
       "    <tr>\n",
       "      <th>33</th>\n",
       "      <td>Alonso, Pete</td>\n",
       "    </tr>\n",
       "    <tr>\n",
       "      <th>36</th>\n",
       "      <td>García, Adolis</td>\n",
       "    </tr>\n",
       "    <tr>\n",
       "      <th>51</th>\n",
       "      <td>Bregman, Alex</td>\n",
       "    </tr>\n",
       "    <tr>\n",
       "      <th>59</th>\n",
       "      <td>Semien, Marcus</td>\n",
       "    </tr>\n",
       "    <tr>\n",
       "      <th>66</th>\n",
       "      <td>Turner, Trea</td>\n",
       "    </tr>\n",
       "    <tr>\n",
       "      <th>67</th>\n",
       "      <td>Bohm, Alec</td>\n",
       "    </tr>\n",
       "    <tr>\n",
       "      <th>73</th>\n",
       "      <td>Flores, Wilmer</td>\n",
       "    </tr>\n",
       "    <tr>\n",
       "      <th>80</th>\n",
       "      <td>Buxton, Byron</td>\n",
       "    </tr>\n",
       "    <tr>\n",
       "      <th>82</th>\n",
       "      <td>Suzuki, Seiya</td>\n",
       "    </tr>\n",
       "    <tr>\n",
       "      <th>91</th>\n",
       "      <td>India, Jonathan</td>\n",
       "    </tr>\n",
       "    <tr>\n",
       "      <th>104</th>\n",
       "      <td>Bogaerts, Xander</td>\n",
       "    </tr>\n",
       "    <tr>\n",
       "      <th>105</th>\n",
       "      <td>Hoerner, Nico</td>\n",
       "    </tr>\n",
       "    <tr>\n",
       "      <th>108</th>\n",
       "      <td>Vientos, Mark</td>\n",
       "    </tr>\n",
       "    <tr>\n",
       "      <th>111</th>\n",
       "      <td>Diaz, Yainer</td>\n",
       "    </tr>\n",
       "    <tr>\n",
       "      <th>118</th>\n",
       "      <td>Fitzgerald, Tyler</td>\n",
       "    </tr>\n",
       "    <tr>\n",
       "      <th>122</th>\n",
       "      <td>Correa, Carlos</td>\n",
       "    </tr>\n",
       "    <tr>\n",
       "      <th>125</th>\n",
       "      <td>Westburg, Jordan</td>\n",
       "    </tr>\n",
       "    <tr>\n",
       "      <th>126</th>\n",
       "      <td>Tovar, Ezequiel</td>\n",
       "    </tr>\n",
       "    <tr>\n",
       "      <th>133</th>\n",
       "      <td>Steer, Spencer</td>\n",
       "    </tr>\n",
       "    <tr>\n",
       "      <th>141</th>\n",
       "      <td>Betts, Mookie</td>\n",
       "    </tr>\n",
       "    <tr>\n",
       "      <th>145</th>\n",
       "      <td>Langeliers, Shea</td>\n",
       "    </tr>\n",
       "    <tr>\n",
       "      <th>162</th>\n",
       "      <td>Wagaman, Eric</td>\n",
       "    </tr>\n",
       "    <tr>\n",
       "      <th>163</th>\n",
       "      <td>Springer, George</td>\n",
       "    </tr>\n",
       "    <tr>\n",
       "      <th>173</th>\n",
       "      <td>Raleigh, Cal</td>\n",
       "    </tr>\n",
       "    <tr>\n",
       "      <th>176</th>\n",
       "      <td>Toglia, Michael</td>\n",
       "    </tr>\n",
       "    <tr>\n",
       "      <th>178</th>\n",
       "      <td>Candelario, Jeimer</td>\n",
       "    </tr>\n",
       "    <tr>\n",
       "      <th>182</th>\n",
       "      <td>Ramírez, José</td>\n",
       "    </tr>\n",
       "    <tr>\n",
       "      <th>185</th>\n",
       "      <td>Santander, Anthony</td>\n",
       "    </tr>\n",
       "    <tr>\n",
       "      <th>186</th>\n",
       "      <td>Perdomo, Geraldo</td>\n",
       "    </tr>\n",
       "    <tr>\n",
       "      <th>187</th>\n",
       "      <td>Lindor, Francisco</td>\n",
       "    </tr>\n",
       "    <tr>\n",
       "      <th>189</th>\n",
       "      <td>Rutschman, Adley</td>\n",
       "    </tr>\n",
       "  </tbody>\n",
       "</table>\n",
       "</div>"
      ],
      "text/plain": [
       "                   name\n",
       "1         Ramos, Heliot\n",
       "2         Story, Trevor\n",
       "3      Chourio, Jackson\n",
       "4          Bichette, Bo\n",
       "6      Rodríguez, Julio\n",
       "18      Witt Jr., Bobby\n",
       "24   Contreras, Willson\n",
       "33         Alonso, Pete\n",
       "36       García, Adolis\n",
       "51        Bregman, Alex\n",
       "59       Semien, Marcus\n",
       "66         Turner, Trea\n",
       "67           Bohm, Alec\n",
       "73       Flores, Wilmer\n",
       "80        Buxton, Byron\n",
       "82        Suzuki, Seiya\n",
       "91      India, Jonathan\n",
       "104    Bogaerts, Xander\n",
       "105       Hoerner, Nico\n",
       "108       Vientos, Mark\n",
       "111        Diaz, Yainer\n",
       "118   Fitzgerald, Tyler\n",
       "122      Correa, Carlos\n",
       "125    Westburg, Jordan\n",
       "126     Tovar, Ezequiel\n",
       "133      Steer, Spencer\n",
       "141       Betts, Mookie\n",
       "145    Langeliers, Shea\n",
       "162       Wagaman, Eric\n",
       "163    Springer, George\n",
       "173        Raleigh, Cal\n",
       "176     Toglia, Michael\n",
       "178  Candelario, Jeimer\n",
       "182       Ramírez, José\n",
       "185  Santander, Anthony\n",
       "186    Perdomo, Geraldo\n",
       "187   Lindor, Francisco\n",
       "189    Rutschman, Adley"
      ]
     },
     "execution_count": 44,
     "metadata": {},
     "output_type": "execute_result"
    }
   ],
   "source": [
    "pd.DataFrame(data[data['cluster'] == 4]['name'])\n"
   ]
  }
 ],
 "metadata": {
  "kernelspec": {
   "display_name": "base",
   "language": "python",
   "name": "python3"
  },
  "language_info": {
   "codemirror_mode": {
    "name": "ipython",
    "version": 3
   },
   "file_extension": ".py",
   "mimetype": "text/x-python",
   "name": "python",
   "nbconvert_exporter": "python",
   "pygments_lexer": "ipython3",
   "version": "3.12.2"
  }
 },
 "nbformat": 4,
 "nbformat_minor": 2
}
